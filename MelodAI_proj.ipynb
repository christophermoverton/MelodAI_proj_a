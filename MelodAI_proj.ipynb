{
 "cells": [
  {
   "cell_type": "markdown",
   "id": "741de213-4512-4034-b261-7859a74b8989",
   "metadata": {},
   "source": [
    "### **MelodAI — GPT-like MIDI Generative Music Exploration**\n",
    "\n",
    "This project explores the generative capabilities of GPT-style transformer architectures for music composition, leveraging the rich and diverse datasets provided by Google’s Magenta. By training a model on symbolic music data, we aim to produce coherent and expressive musical sequences.\n",
    "\n",
    "While MIDI technology has existed for decades—providing professionals and researchers with tools for sequencing and digital composition—the concept of generative music without the need for extensive compositional skills or complex algorithmic tools is relatively new. Traditionally, creating music required either creative expertise or specialized software. However, in the past couple of decades, advances in GPT (Generative Pre-trained Transformer) research have made it possible to generate learned responses through simple prompts.\n",
    "\n",
    "These same transformer models are now being applied to generative music. By leveraging MIDI—a well-established format for digital music encoding—we can integrate tools like Miditok, which tokenizes MIDI files into sequences of numerical IDs. This allows us to treat music as a structured time-series dataset, ideal for transformer-based modeling. Like with LSTMs (which we were introduced to a few weeks ago), GPT-like models can learn from these sequences to understand and generate music, discovering patterns within musical time and structure.\n",
    "\n",
    "\n",
    "### What Are the Tokenized ID Attributes in Time-Series Music?\n",
    "\n",
    "Let’s briefly touch on how music is represented as a sequence. If you have any background in music theory, you’ll recall that Western staff notation is read left to right, similar to most written languages. At the beginning of a staff, we typically see a time signature, which tells us how many beats are in each bar and how those beats are divided.\n",
    "\n",
    "Each note on the staff contains several important attributes:\n",
    "- Pitch: The vertical position of the note indicates its frequency.\n",
    "- Time Shift: How much time passes *before* the note is played (relative to the previous note).\n",
    "- Duration: How long the note is held.\n",
    "- Velocity: The intensity or \"loudness\" of the note—how hard a piano key is struck, a string is plucked, or a note is blown.\n",
    "\n",
    "An important distinction is that duration and time shift are not the same. A note might end before the next one begins, introducing a pause or rest. Together, these four attributes—Pitch, Velocity, Duration, and Time Shift—define a single note event in our model.\n",
    "\n",
    "\n",
    "### So How Does Tokenization Work?\n",
    "\n",
    "You can think of a MIDI file as a piece of text, with musical grammar rules. Just like text has words, sentences, and paragraphs, music has notes, bars, and sections. In tokenization, each note event (or its components) becomes a token. These tokens form a vocabulary that our model learns from.\n",
    "\n",
    "There are two common tokenization strategies:\n",
    "- Treating an entire note event (with all attributes) as a single token.\n",
    "- Separating each attribute (e.g., Pitch, Duration) into its own token, preserving order in a structured sequence.\n",
    "\n",
    "We will use the latter first, for a more granular approach—structured tokenization—which tends to perform well with transformer models and requires less training to achieve good generalization.  We will also try tokenizing by note event, combining all four attibutes into a single word token.\n",
    "\n",
    "### GPT vs. LSTM in Music Generation\n",
    "\n",
    "Much like LSTM models, GPT-style transformers process sequences using a moving window approach. However, unlike LSTMs, GPT models are decoder-only: they don’t encode and decode. Instead, they predict the next token based on the sequence of tokens that came before it.\n",
    "\n",
    "### What Does a GPT Output Look Like?\n",
    "\n",
    "When a GPT-like model is trained and given a token, it generates a logit, a 1D tensor representing the model’s learned grammar. This output is passed through a softmax function to create a probability distribution over the entire vocabulary. Using this weighted distribution, we can randomly sample the next token—where \"random\" is influenced by how likely each token is, based on learned patterns.\n",
    "\n",
    "This process allows for creativity and variation in generation, while still following the learned structure of music.\n",
    "\n",
    "\n",
    "Later on, we’ll introduce the specifics of the GPT-like architecture. But for now—let’s dive in! "
   ]
  },
  {
   "cell_type": "markdown",
   "id": "de515e3e-b472-4cee-9257-2532fd938f26",
   "metadata": {},
   "source": [
    "Let's use the GPU unit if it is available to speed up the deep learning model"
   ]
  },
  {
   "cell_type": "code",
   "execution_count": 144,
   "id": "b8746e57-8417-4041-8aac-989a7afbd796",
   "metadata": {},
   "outputs": [],
   "source": [
    "import tensorflow as tf\n",
    "\n",
    "gpus = tf.config.list_physical_devices('GPU')\n",
    "if gpus:\n",
    "    try:\n",
    "        for gpu in gpus:\n",
    "            tf.config.experimental.set_memory_growth(gpu, True)\n",
    "    except RuntimeError as e:\n",
    "        print(e)\n"
   ]
  },
  {
   "cell_type": "markdown",
   "id": "a462f28d-7a17-4b56-b8e2-cf3989ecafa8",
   "metadata": {},
   "source": [
    "The Maestro-v3.0.0.csv file conveniently provides us data split information for training, testing and validation.  We can also see the names of music composers.  It is worth noting that this music dataset is largely aimed at learning Classical Music and is predominantly biased with western music composition, so this deep learning project appreciate a particularly limited sphere of music, and even regarding the set of learned music, it is even more limited in that, the the producers of the dataset largely left recorded compositions to the piano as we shall see later.  I'll provide some context on why this is especially the case."
   ]
  },
  {
   "cell_type": "markdown",
   "id": "19c008f0-8f31-4296-8b1c-a2e55eb3431c",
   "metadata": {},
   "source": [
    "### Exploratory Data Analysis"
   ]
  },
  {
   "cell_type": "code",
   "execution_count": 2,
   "id": "3c1619db",
   "metadata": {
    "vscode": {
     "languageId": "plaintext"
    }
   },
   "outputs": [
    {
     "data": {
      "text/html": [
       "<div>\n",
       "<style scoped>\n",
       "    .dataframe tbody tr th:only-of-type {\n",
       "        vertical-align: middle;\n",
       "    }\n",
       "\n",
       "    .dataframe tbody tr th {\n",
       "        vertical-align: top;\n",
       "    }\n",
       "\n",
       "    .dataframe thead th {\n",
       "        text-align: right;\n",
       "    }\n",
       "</style>\n",
       "<table border=\"1\" class=\"dataframe\">\n",
       "  <thead>\n",
       "    <tr style=\"text-align: right;\">\n",
       "      <th></th>\n",
       "      <th>canonical_composer</th>\n",
       "      <th>canonical_title</th>\n",
       "      <th>split</th>\n",
       "      <th>year</th>\n",
       "      <th>midi_filename</th>\n",
       "      <th>audio_filename</th>\n",
       "      <th>duration</th>\n",
       "    </tr>\n",
       "  </thead>\n",
       "  <tbody>\n",
       "    <tr>\n",
       "      <th>0</th>\n",
       "      <td>Alban Berg</td>\n",
       "      <td>Sonata Op. 1</td>\n",
       "      <td>train</td>\n",
       "      <td>2018</td>\n",
       "      <td>2018/MIDI-Unprocessed_Chamber3_MID--AUDIO_10_R...</td>\n",
       "      <td>2018/MIDI-Unprocessed_Chamber3_MID--AUDIO_10_R...</td>\n",
       "      <td>698.661160</td>\n",
       "    </tr>\n",
       "    <tr>\n",
       "      <th>1</th>\n",
       "      <td>Alban Berg</td>\n",
       "      <td>Sonata Op. 1</td>\n",
       "      <td>train</td>\n",
       "      <td>2008</td>\n",
       "      <td>2008/MIDI-Unprocessed_03_R2_2008_01-03_ORIG_MI...</td>\n",
       "      <td>2008/MIDI-Unprocessed_03_R2_2008_01-03_ORIG_MI...</td>\n",
       "      <td>759.518471</td>\n",
       "    </tr>\n",
       "    <tr>\n",
       "      <th>2</th>\n",
       "      <td>Alban Berg</td>\n",
       "      <td>Sonata Op. 1</td>\n",
       "      <td>train</td>\n",
       "      <td>2017</td>\n",
       "      <td>2017/MIDI-Unprocessed_066_PIANO066_MID--AUDIO-...</td>\n",
       "      <td>2017/MIDI-Unprocessed_066_PIANO066_MID--AUDIO-...</td>\n",
       "      <td>464.649433</td>\n",
       "    </tr>\n",
       "    <tr>\n",
       "      <th>3</th>\n",
       "      <td>Alexander Scriabin</td>\n",
       "      <td>24 Preludes Op. 11, No. 13-24</td>\n",
       "      <td>train</td>\n",
       "      <td>2004</td>\n",
       "      <td>2004/MIDI-Unprocessed_XP_21_R1_2004_01_ORIG_MI...</td>\n",
       "      <td>2004/MIDI-Unprocessed_XP_21_R1_2004_01_ORIG_MI...</td>\n",
       "      <td>872.640588</td>\n",
       "    </tr>\n",
       "    <tr>\n",
       "      <th>4</th>\n",
       "      <td>Alexander Scriabin</td>\n",
       "      <td>3 Etudes, Op. 65</td>\n",
       "      <td>validation</td>\n",
       "      <td>2006</td>\n",
       "      <td>2006/MIDI-Unprocessed_17_R1_2006_01-06_ORIG_MI...</td>\n",
       "      <td>2006/MIDI-Unprocessed_17_R1_2006_01-06_ORIG_MI...</td>\n",
       "      <td>397.857508</td>\n",
       "    </tr>\n",
       "  </tbody>\n",
       "</table>\n",
       "</div>"
      ],
      "text/plain": [
       "   canonical_composer                canonical_title       split  year  \\\n",
       "0          Alban Berg                   Sonata Op. 1       train  2018   \n",
       "1          Alban Berg                   Sonata Op. 1       train  2008   \n",
       "2          Alban Berg                   Sonata Op. 1       train  2017   \n",
       "3  Alexander Scriabin  24 Preludes Op. 11, No. 13-24       train  2004   \n",
       "4  Alexander Scriabin               3 Etudes, Op. 65  validation  2006   \n",
       "\n",
       "                                       midi_filename  \\\n",
       "0  2018/MIDI-Unprocessed_Chamber3_MID--AUDIO_10_R...   \n",
       "1  2008/MIDI-Unprocessed_03_R2_2008_01-03_ORIG_MI...   \n",
       "2  2017/MIDI-Unprocessed_066_PIANO066_MID--AUDIO-...   \n",
       "3  2004/MIDI-Unprocessed_XP_21_R1_2004_01_ORIG_MI...   \n",
       "4  2006/MIDI-Unprocessed_17_R1_2006_01-06_ORIG_MI...   \n",
       "\n",
       "                                      audio_filename    duration  \n",
       "0  2018/MIDI-Unprocessed_Chamber3_MID--AUDIO_10_R...  698.661160  \n",
       "1  2008/MIDI-Unprocessed_03_R2_2008_01-03_ORIG_MI...  759.518471  \n",
       "2  2017/MIDI-Unprocessed_066_PIANO066_MID--AUDIO-...  464.649433  \n",
       "3  2004/MIDI-Unprocessed_XP_21_R1_2004_01_ORIG_MI...  872.640588  \n",
       "4  2006/MIDI-Unprocessed_17_R1_2006_01-06_ORIG_MI...  397.857508  "
      ]
     },
     "execution_count": 2,
     "metadata": {},
     "output_type": "execute_result"
    }
   ],
   "source": [
    "import pandas as pd\n",
    "import matplotlib.pyplot as plt\n",
    "\n",
    "# Load the MAESTRO metadata CSV\n",
    "csv_path = \"data/maestro/maestro-v3.0.0/maestro-v3.0.0.csv\"\n",
    "df = pd.read_csv(csv_path)\n",
    "\n",
    "# Preview the data\n",
    "df.head()\n"
   ]
  },
  {
   "cell_type": "code",
   "execution_count": 3,
   "id": "54d6d2bf-3ef9-463a-a84f-130bc000c336",
   "metadata": {},
   "outputs": [
    {
     "name": "stdout",
     "output_type": "stream",
     "text": [
      "Total MIDI files: 1276\n"
     ]
    }
   ],
   "source": [
    "print(f\"Total MIDI files: {len(df)}\")\n"
   ]
  },
  {
   "cell_type": "code",
   "execution_count": 49,
   "id": "a08ae849-df1a-49b0-bb51-c7d14d6a8e4d",
   "metadata": {},
   "outputs": [],
   "source": [
    "midi_path = \"/home/christophermoverton/MelodAI_proj/data/maestro/maestro-v3.0.0/2004/MIDI-Unprocessed_SMF_02_R1_2004_01-05_ORIG_MID--AUDIO_02_R1_2004_05_Track05_wav.midi\""
   ]
  },
  {
   "cell_type": "markdown",
   "id": "3b49938f-30b6-4568-b866-39cb186d1888",
   "metadata": {},
   "source": [
    "\n",
    "Here is a demonstration of a note event using the `pretty_midi` module.  \n",
    "Note: Although `pretty_midi` provides a helpful way to visualize and understand the structure of a note event, we will *not* be using it for tokenization in this project.\n",
    "\n",
    "You’ll notice that instead of a separate duration attribute, each note is defined by a `start` and `end` time. This differs from other time representations—particularly the time shift and duration format used in tokenization for transformer models. In the `pretty_midi` representation, notes are placed on a global (absolute) timeline, meaning their timing is fixed relative to the beginning of the piece, rather than described by their position relative to surrounding notes.\n",
    "\n",
    "While this global positioning is useful for exact playback or temporal analysis, it loses the immediate local context that time-series models benefit from—such as how one note temporally relates to the next. In contrast, models trained on time shift and duration can learn musical phrasing, rhythm, and expressive timing more naturally by understanding these relative relationships.\n"
   ]
  },
  {
   "cell_type": "code",
   "execution_count": 54,
   "id": "f0a16ef4-c766-4beb-812f-b9d67557ac29",
   "metadata": {},
   "outputs": [
    {
     "name": "stdout",
     "output_type": "stream",
     "text": [
      "\n",
      "🎹 Instrument 0: Program=0, Is Drum=False, Name=\n",
      "Note: pitch=71, start=1.09, end=1.19, velocity=60\n",
      "Note: pitch=55, start=1.28, end=1.50, velocity=44\n",
      "Note: pitch=59, start=1.46, end=1.63, velocity=55\n",
      "Note: pitch=62, start=1.63, end=1.75, velocity=52\n",
      "Note: pitch=71, start=1.29, end=1.79, velocity=54\n",
      "Note: pitch=72, start=1.79, end=1.83, velocity=76\n",
      "Note: pitch=67, start=1.80, end=2.00, velocity=56\n",
      "Note: pitch=74, start=1.98, end=2.10, velocity=68\n",
      "Note: pitch=72, start=2.04, end=2.11, velocity=77\n",
      "Note: pitch=74, start=2.10, end=2.18, velocity=51\n",
      "7894\n"
     ]
    }
   ],
   "source": [
    "import pretty_midi\n",
    "\n",
    "midi = pretty_midi.PrettyMIDI(midi_path)\n",
    "\n",
    "for i, instr in enumerate(midi.instruments):\n",
    "    print(f\"\\n🎹 Instrument {i}: Program={instr.program}, Is Drum={instr.is_drum}, Name={instr.name}\")\n",
    "    \n",
    "    for note in instr.notes[:10]:  # just show first 10 notes\n",
    "        print(f\"Note: pitch={note.pitch}, start={note.start:.2f}, end={note.end:.2f}, velocity={note.velocity}\")\n",
    "    print(len(instr.notes))\n"
   ]
  },
  {
   "cell_type": "markdown",
   "id": "2d4b3d66-3f37-4a9a-b6d6-6089ee0ef46f",
   "metadata": {},
   "source": [
    "Chopin has a large number of compositions in this dataset—but why might that be useful to know?  \n",
    "Chopin primarily composed music for the parlor, a popular domestic setting in the 19th century, and the most common instrument in parlors was the piano. His works, rich in expressive phrasing and romanticism, were tailored for intimate performances, which is reflected in the quantity and style of his piano-focused compositions.\n",
    "\n",
    "Similarly, Franz Schubert—another prolific composer in this dataset—also wrote extensively for the piano, often for salons and small gatherings. His music bridged classical forms with romantic emotion, making it widely accessible and enduring.\n",
    "\n",
    "Ludwig van Beethoven, despite losing his hearing later in life, continued to compose masterworks that pushed the boundaries of form and expression. While he is known for symphonies and larger works, many of his compositions also centered around the piano.\n",
    "\n",
    "Johann Sebastian Bach, on the other hand, lived much earlier and often traveled on foot across Germany to perform and compose, especially for churches. His output includes a significant number of keyboard works (organ and harpsichord), further contributing to his high count in this dataset.\n",
    "\n",
    "Each of these composers contributed not just through sheer quantity, but through works tailored to the performance contexts and instruments of their era. These historical insights help contextualize the distribution shown in the bar chart—and hint at how musical traditions and settings influence data in our generative modeling efforts.\n"
   ]
  },
  {
   "cell_type": "code",
   "execution_count": 4,
   "id": "1391b516-c3e5-4075-bd01-18b9c6c895ff",
   "metadata": {},
   "outputs": [
    {
     "data": {
      "image/png": "[encoded data removed]",
      "text/plain": [
       "<Figure size 640x480 with 1 Axes>"
      ]
     },
     "metadata": {},
     "output_type": "display_data"
    }
   ],
   "source": [
    "df['canonical_composer'].value_counts().head(10).plot(kind='bar', title='Top Composers')\n",
    "plt.ylabel(\"Number of pieces\")\n",
    "plt.show()\n"
   ]
  },
  {
   "cell_type": "markdown",
   "id": "c2335d83-3f61-44a4-82a8-673dece37e79",
   "metadata": {},
   "source": [
    "\n",
    "\n",
    "  Distribution Characteristics:\n",
    "- Most pieces have durations clustered on the left side of the graph — under 600 seconds (10 minutes).\n",
    "- There's a long tail extending to the right, with fewer pieces stretching out to 2500+ seconds (over 40 minutes).\n",
    "- The mode (the peak) occurs somewhere between 200 and 400 seconds, which suggests that shorter pieces are most common in your dataset.\n",
    "\n",
    "Musical Insight:\n",
    "This makes sense for classical music datasets — especially with composers like Chopin or Schubert who wrote many shorter, solo piano works. Longer durations may reflect symphonies, concertos, or large-scale choral/orchestral works, which are less frequent in most symbolic music datasets.\n",
    "\n",
    "For added consideration, I like to reflect on the audience setting that the composer may have envisioned when creating these pieces. Were the listeners already seated for a formal, concert-style performance? Or was the setting more casual and social in nature? Was the music intended to command focused attention, or was it designed as elegant background entertainment for gatherings?\n",
    "\n",
    "As mentioned earlier, Chopin and Schubert were known for their waltzes, nocturnes, and impromptus—pieces often composed for parlor settings, where guests were likely coming and going. These works were typically brief, often lasting only a few minutes, and could easily accompany dancing or casual conversation.\n",
    "\n",
    "In contrast, longer, symphonic-style compositions were designed for more structured and immersive performances. Yet, the composers most prolific in this dataset often leaned toward shorter works, and that’s reflected in the distribution of piece durations we see.\n",
    "\n",
    "It’s helpful to think of these compositions as the commercial entertainment of their time. Guests at a salon or soirée might engage in conversation while a nocturne played softly in the background. And while Chopin’s music certainly includes deeply intimate moments, his waltzes were also crafted to entertain—they weren’t just \"another dance piece\" but aimed to captivate and charm their listeners.\n",
    "\n",
    "Beyond this consideration, how might the GPT model interpret and prompt respond based upon the bulk of compositions that say peak at less than 500 seconds in duration?  Perhaps, we might have predictions more inclined to supply improptus and waltzes from our training set, or shorter compositional pieces?  "
   ]
  },
  {
   "cell_type": "code",
   "execution_count": 5,
   "id": "3b6eecde-b827-4d3a-9a0e-f02b2526eedd",
   "metadata": {},
   "outputs": [
    {
     "data": {
      "image/png": "[encoded data removed]",
      "text/plain": [
       "<Figure size 640x480 with 1 Axes>"
      ]
     },
     "metadata": {},
     "output_type": "display_data"
    }
   ],
   "source": [
    "df['duration'].hist(bins=30)\n",
    "plt.title(\"Distribution of Piece Durations (seconds)\")\n",
    "plt.xlabel(\"Duration\")\n",
    "plt.ylabel(\"Count\")\n",
    "plt.show()\n"
   ]
  },
  {
   "cell_type": "markdown",
   "id": "1edd900c-04d1-4496-abb5-9c7bf7b70c8e",
   "metadata": {},
   "source": [
    "Our peak midi note is approximately 65.  This correponds to F4, or 5 semitones from middle C.  This is solidly in the Soprano range, and it is a common range for choral arrangements, and it is common in melodic arrangments.  "
   ]
  },
  {
   "cell_type": "code",
   "execution_count": 7,
   "id": "e160c2f7-1405-425c-b9bc-19c67fa12190",
   "metadata": {},
   "outputs": [
    {
     "name": "stderr",
     "output_type": "stream",
     "text": [
      "100%|███████████████████████████████████████████████████| 1276/1276 [02:10<00:00,  9.74it/s]\n"
     ]
    },
    {
     "data": {
      "image/png": "[encoded data removed]",
      "text/plain": [
       "<Figure size 1000x400 with 1 Axes>"
      ]
     },
     "metadata": {},
     "output_type": "display_data"
    },
    {
     "data": {
      "image/png": "[encoded data removed]",
      "text/plain": [
       "<Figure size 1000x400 with 1 Axes>"
      ]
     },
     "metadata": {},
     "output_type": "display_data"
    }
   ],
   "source": [
    "import pandas as pd\n",
    "import pretty_midi\n",
    "import matplotlib.pyplot as plt\n",
    "import os\n",
    "from tqdm import tqdm\n",
    "\n",
    "# Load metadata\n",
    "csv_path = \"data/maestro/maestro-v3.0.0/maestro-v3.0.0.csv\"\n",
    "root_path = \"data/maestro/maestro-v3.0.0\"\n",
    "df = pd.read_csv(csv_path)\n",
    "\n",
    "# Paths\n",
    "midi_root = root_path#os.path.join(os.path.dirname(csv_path), \"midi\")\n",
    "\n",
    "# Initialize storage\n",
    "all_pitches = []\n",
    "all_tempos = []\n",
    "\n",
    "# Loop through a small subset first (you can expand later)\n",
    "for _, row in tqdm(df.iterrows(), total=len(df)):\n",
    "    midi_path = os.path.join(midi_root, row[\"midi_filename\"])\n",
    "    try:\n",
    "        midi = pretty_midi.PrettyMIDI(midi_path)\n",
    "\n",
    "        # Gather pitches\n",
    "        for instrument in midi.instruments:\n",
    "            if not instrument.is_drum:\n",
    "                for note in instrument.notes:\n",
    "                    all_pitches.append(note.pitch)\n",
    "\n",
    "        # Gather tempo estimates\n",
    "        tempos = midi.get_tempo_changes()[1]\n",
    "        all_tempos.extend(tempos)\n",
    "\n",
    "    except Exception as e:\n",
    "        print(f\"Error loading {midi_path}: {e}\")\n",
    "\n",
    "# Plot histogram of note pitches (MIDI pitch numbers)\n",
    "plt.figure(figsize=(10, 4))\n",
    "plt.hist(all_pitches, bins=range(21, 109), edgecolor='black')  # MIDI piano range\n",
    "plt.title(\"Note Pitch Distribution\")\n",
    "plt.xlabel(\"MIDI Pitch\")\n",
    "plt.ylabel(\"Count\")\n",
    "plt.show()\n",
    "\n",
    "# Plot histogram of tempos (BPM)\n",
    "plt.figure(figsize=(10, 4))\n",
    "plt.hist(all_tempos, bins=30, edgecolor='black')\n",
    "plt.title(\"Tempo Distribution\")\n",
    "plt.xlabel(\"BPM\")\n",
    "plt.ylabel(\"Count\")\n",
    "plt.show()\n"
   ]
  },
  {
   "cell_type": "code",
   "execution_count": 10,
   "id": "b3fd16dc-dc56-4beb-8b49-aa6dc8c60297",
   "metadata": {},
   "outputs": [
    {
     "name": "stderr",
     "output_type": "stream",
     "text": [
      "100%|█████████████████████████████████████████████████████| 962/962 [01:44<00:00,  9.17it/s]\n"
     ]
    }
   ],
   "source": [
    "import pandas as pd\n",
    "import pretty_midi\n",
    "import os\n",
    "from tqdm import tqdm\n",
    "\n",
    "# Load metadata CSV\n",
    "csv_path = \"data/maestro/maestro-v3.0.0/maestro-v3.0.0.csv\"\n",
    "df = pd.read_csv(csv_path)\n",
    "\n",
    "# Base path to MIDI files\n",
    "midi_root = root_path#os.path.join(os.path.dirname(csv_path), \"midi\")\n",
    "\n",
    "# Initialize list of PrettyMIDI objects\n",
    "all_midi_files = []\n",
    "\n",
    "# Optionally: filter by split (e.g., 'train')\n",
    "df_filtered = df[df['split'] == 'train']\n",
    "\n",
    "# Load all MIDI files (can limit to a small subset first)\n",
    "for _, row in tqdm(df_filtered.iterrows(), total=len(df_filtered)):\n",
    "    midi_path = os.path.join(midi_root, row['midi_filename'])\n",
    "    try:\n",
    "        midi = pretty_midi.PrettyMIDI(midi_path)\n",
    "        all_midi_files.append(midi)\n",
    "    except Exception as e:\n",
    "        print(f\"Error loading {midi_path}: {e}\")\n"
   ]
  },
  {
   "cell_type": "markdown",
   "id": "b8178255-ae01-4bbf-abde-d49e52ca7ad7",
   "metadata": {},
   "source": [
    "We observe a peak note density of around 9 notes per second. This level of density is more commonly found in works such as Chopin’s études, Liszt’s rhapsodies, and Paganini’s caprices. Higher note densities often reflect rapid trills, virtuosic runs, or stylistic ornamentation.\n",
    "\n",
    "Since we’re averaging note events across the full duration of a piece, it’s worth noting that this suggests not just occasional flourishes, but consistently intricate composition. While such passages are challenging for many instruments, they are more naturally handled on the piano, which these composers primarily wrote for.\n",
    "\n",
    "These pieces are not only rhythmically intense, but also compositionally dense. If we think back to Chopin’s waltzes, they’re not merely slow, elegant dances—they’re often packed with ornamentation, expressive gestures, and a high degree of stylistic energy.\n",
    "\n",
    "As to compositions that were likely danceable in the ballroom, it is worth noting Chopin was likely a bit too energetic.  Strauss or Lanner, yes, they did produce waltzes that one could dance!  "
   ]
  },
  {
   "cell_type": "code",
   "execution_count": 11,
   "id": "36d41f50-cdcb-403e-9848-73d509f7e208",
   "metadata": {},
   "outputs": [
    {
     "data": {
      "text/plain": [
       "Text(0.5, 1.0, 'Note Density (Notes per Second)')"
      ]
     },
     "execution_count": 11,
     "metadata": {},
     "output_type": "execute_result"
    },
    {
     "data": {
      "image/png": "[encoded data removed]",
      "text/plain": [
       "<Figure size 640x480 with 1 Axes>"
      ]
     },
     "metadata": {},
     "output_type": "display_data"
    }
   ],
   "source": [
    "notes_per_second = [len(pm.instruments[0].notes) / pm.get_end_time() for pm in all_midi_files]\n",
    "plt.hist(notes_per_second, bins=30)\n",
    "plt.title(\"Note Density (Notes per Second)\")\n"
   ]
  },
  {
   "cell_type": "code",
   "execution_count": null,
   "id": "e82e6961-7b32-49dd-b08a-3fdb2ad2ceed",
   "metadata": {},
   "outputs": [],
   "source": []
  },
  {
   "cell_type": "code",
   "execution_count": 12,
   "id": "6cad92d0-2eec-4304-9d42-ebce354a8a48",
   "metadata": {},
   "outputs": [
    {
     "data": {
      "text/plain": [
       "Text(0.5, 1.0, 'Estimated Token Count per File')"
      ]
     },
     "execution_count": 12,
     "metadata": {},
     "output_type": "execute_result"
    },
    {
     "data": {
      "image/png": "[encoded data removed]",
      "text/plain": [
       "<Figure size 640x480 with 1 Axes>"
      ]
     },
     "metadata": {},
     "output_type": "display_data"
    }
   ],
   "source": [
    "avg_notes = [sum(len(inst.notes) for inst in pm.instruments) for pm in all_midi_files]\n",
    "plt.hist(avg_notes, bins=30)\n",
    "plt.title(\"Estimated Token Count per File\")\n"
   ]
  },
  {
   "cell_type": "markdown",
   "id": "05df8d02-dc2d-4f5a-9c11-2e77df8f8be6",
   "metadata": {},
   "source": [
    "We can see below the minimum and maximum pitch range.  If composition for the piano appreciates a wide variability in range, composers could also have the added task of thinking about the range of their singer's voice or the range that a choral group might have.  If they play notes that deviate below the range of the soprano, then the soprano may find the composition impossible to sing, so bracketing compositional range could be important when composing say for a mezzo-soprano versus soprano, or alto.  Also if the composer is thinking of the piano as instrument, they know from a music theory standpoint the ranges of various instruments in symphony, so some instrument groups might be bracketed within ranges that certain instrument sections in the symphony can play.  The widest min max ranges suggest piano ranges, while the narrowest ranges might suggest accompaniment via instrument likes woodwinds (namely, flutes), or violins, etc.  We definitely see a lot of for piano compositions from the graph shown below."
   ]
  },
  {
   "cell_type": "code",
   "execution_count": 13,
   "id": "a9d231d5-5e4d-4e7b-86fe-7ffb97a682b0",
   "metadata": {},
   "outputs": [
    {
     "data": {
      "text/plain": [
       "Text(0.5, 1.0, 'Pitch Ranges per Piece')"
      ]
     },
     "execution_count": 13,
     "metadata": {},
     "output_type": "execute_result"
    },
    {
     "data": {
      "image/png": "[encoded data removed]",
      "text/plain": [
       "<Figure size 640x480 with 1 Axes>"
      ]
     },
     "metadata": {},
     "output_type": "display_data"
    }
   ],
   "source": [
    "pitch_ranges = [(min(note.pitch for inst in pm.instruments for note in inst.notes),\n",
    "                 max(note.pitch for inst in pm.instruments for note in inst.notes))\n",
    "                for pm in all_midi_files]\n",
    "\n",
    "min_pitches, max_pitches = zip(*pitch_ranges)\n",
    "plt.scatter(min_pitches, max_pitches)\n",
    "plt.xlabel(\"Min Pitch\")\n",
    "plt.ylabel(\"Max Pitch\")\n",
    "plt.title(\"Pitch Ranges per Piece\")\n"
   ]
  },
  {
   "cell_type": "markdown",
   "id": "9883ee76-e164-483c-8662-8ac636625453",
   "metadata": {},
   "source": [
    "Chopin tops the music charts in terms of volume of compositions, and if he were by in large thinking about the shorter dance pieces, this might explain the numbers.  Chopin definitely loved the piano and its intimacy, but he never composed one symphony.  Beethoven, on the other hand, composed nine landmark symphonies.  Schubert also composed nine symphonies.  There is also, owing to Beethoven(?), the \"curse of the ninth\" symphony.  Generally, this was a superstition that no composer would ever live to compose more than 9 symphonies! "
   ]
  },
  {
   "cell_type": "code",
   "execution_count": 14,
   "id": "f2dc7322-fc25-4c1d-96f3-882383a14363",
   "metadata": {},
   "outputs": [
    {
     "data": {
      "text/plain": [
       "Text(0.5, 1.0, 'Composer Distribution')"
      ]
     },
     "execution_count": 14,
     "metadata": {},
     "output_type": "execute_result"
    },
    {
     "data": {
      "image/png": "[encoded data removed]",
      "text/plain": [
       "<Figure size 1000x400 with 1 Axes>"
      ]
     },
     "metadata": {},
     "output_type": "display_data"
    }
   ],
   "source": [
    "df['canonical_composer'].value_counts().plot(kind='bar', figsize=(10,4))\n",
    "plt.title(\"Composer Distribution\")\n"
   ]
  },
  {
   "cell_type": "code",
   "execution_count": 15,
   "id": "e503bef9-d597-4c41-94dd-0602340ef0f3",
   "metadata": {},
   "outputs": [
    {
     "data": {
      "text/plain": [
       "Text(0.5, 1.0, 'MIDI Duration Distribution')"
      ]
     },
     "execution_count": 15,
     "metadata": {},
     "output_type": "execute_result"
    },
    {
     "data": {
      "image/png": "[encoded data removed]",
      "text/plain": [
       "<Figure size 640x480 with 1 Axes>"
      ]
     },
     "metadata": {},
     "output_type": "display_data"
    }
   ],
   "source": [
    "durations = [pm.get_end_time() for pm in all_midi_files]\n",
    "plt.hist(durations, bins=30)\n",
    "plt.title(\"MIDI Duration Distribution\")\n"
   ]
  },
  {
   "cell_type": "markdown",
   "id": "50fd284f-0536-426d-8b0f-754c2a154c51",
   "metadata": {},
   "source": [
    "Let's go ahead and configure our Tokenizer.  In this case, while we won't use REMI, we will use this as an example of exploring tokenization further, and then rendering midi, alongside representing a music piece on the familiar piano roll. "
   ]
  },
  {
   "cell_type": "code",
   "execution_count": 17,
   "id": "1e57a983-1404-46d3-9388-7cf3a330c1f1",
   "metadata": {},
   "outputs": [],
   "source": [
    "from miditok import REMI\n",
    "from miditok import TokSequence\n",
    "from pathlib import Path\n",
    "\n",
    "# Paths\n",
    "midi_dir = Path(\"data/maestro/maestro-v3.0.0\")\n",
    "token_dir = Path(\"data/tokens/remi\")\n",
    "token_dir.mkdir(parents=True, exist_ok=True)\n",
    "\n",
    "# Create a REMI tokenizer\n",
    "tokenizer = REMI(tokenizer_config=None)  # default config\n"
   ]
  },
  {
   "cell_type": "code",
   "execution_count": 19,
   "id": "f2335018-f93f-4e2c-b078-cbe2437d29f8",
   "metadata": {},
   "outputs": [
    {
     "name": "stderr",
     "output_type": "stream",
     "text": [
      "100%|███████████████████████████████████████████████████| 1276/1276 [00:53<00:00, 23.92it/s]\n"
     ]
    }
   ],
   "source": [
    "from tqdm import tqdm\n",
    "import pretty_midi\n",
    "\n",
    "midi_paths = list(midi_dir.glob(\"**/*.midi\"))  # or .mid\n",
    "\n",
    "for midi_path in tqdm(midi_paths):\n",
    "    try:\n",
    "        tokens = tokenizer(midi_path)  # returns a list of TokSequence\n",
    "        # Save token file with same name but .json extension\n",
    "        token_save_path = token_dir / midi_path.with_suffix(\".json\").name\n",
    "        # Save tokens (REMI will handle JSON formatting + path)\n",
    "        tokenizer.save_tokens(tokens, token_dir / midi_path.with_suffix(\".json\").name)\n",
    "    except Exception as e:\n",
    "        print(f\"Error tokenizing {midi_path.name}: {e}\")\n"
   ]
  },
  {
   "cell_type": "code",
   "execution_count": 1,
   "id": "dccb2120-83e6-4ac5-ad25-c70c08d20760",
   "metadata": {},
   "outputs": [
    {
     "name": "stdout",
     "output_type": "stream",
     "text": [
      "[4, 206, 26, 110, 135, 215, 33, 112, 131, 4, 189, 41, 113, 126, 194, 41, 114, 127, 197, 33]\n"
     ]
    },
    {
     "name": "stderr",
     "output_type": "stream",
     "text": [
      "/home/christophermoverton/MelodAI_proj/venv/lib/python3.12/site-packages/tqdm/auto.py:21: TqdmWarning: IProgress not found. Please update jupyter and ipywidgets. See https://ipywidgets.readthedocs.io/en/stable/user_install.html\n",
      "  from .autonotebook import tqdm as notebook_tqdm\n"
     ]
    }
   ],
   "source": [
    "from miditok import REMI\n",
    "from pathlib import Path\n",
    "\n",
    "# Path to your tokenized file /home/christophermoverton/MelodAI_proj/data/tokens/remi/MIDI-Unprocessed_01_R1_2006_01-09_ORIG_MID--AUDIO_01_R1_2006_01_Track01_wav.json\n",
    "token_path = Path(\"data/tokens/remi/MIDI-Unprocessed_01_R1_2006_01-09_ORIG_MID--AUDIO_01_R1_2006_01_Track01_wav.json\")\n",
    "\n",
    "# Create the same tokenizer you used to save the file\n",
    "tokenizer = REMI()\n",
    "\n",
    "# Load the token sequence\n",
    "token_sequence = tokenizer.load_tokens(token_path)\n",
    "\n",
    "# Print first few tokens\n",
    "print(token_sequence[0].ids[:20])\n",
    "\n"
   ]
  },
  {
   "cell_type": "markdown",
   "id": "a9652a86-453f-406d-8312-17a1eb8e49c9",
   "metadata": {},
   "source": [
    "Below shows the tokenized output of a given track.  Note: we have to decode the token ids to understand what token events are actually taking place.  Otherwise, these token ids are just numbers replacing their vocabulary mapped labels.  Unlike Structured tokenization, REMI has timing represented in terms of Bar and position (with that bar). Also rests (or pauses) in Remi can be tokenized which can lead to irregular periodic structure.  As it turns out, using REMI without added constraints using default vocabularies, or training, can introduce problems for the basic GPT of overfitting (especially in building custom training vocabularies).  Tempo is also mapped in a periodic, if not redundant manner although it is not shown below.  Neither are 'Rests' shown below."
   ]
  },
  {
   "cell_type": "code",
   "execution_count": 2,
   "id": "4468598e-7952-4c3d-b73b-730fdc70c3b7",
   "metadata": {},
   "outputs": [
    {
     "name": "stdout",
     "output_type": "stream",
     "text": [
      "['Bar_None', 'Position_17', 'Pitch_42', 'Velocity_71', 'Duration_1.3.8', 'Position_26', 'Pitch_49', 'Velocity_79', 'Duration_0.7.8', 'Bar_None', 'Position_0', 'Pitch_57', 'Velocity_83', 'Duration_0.2.8', 'Position_5', 'Pitch_57', 'Velocity_87', 'Duration_0.3.8', 'Position_8', 'Pitch_49', 'Velocity_83', 'Duration_0.4.8', 'Position_11', 'Pitch_42', 'Velocity_83', 'Duration_0.2.8', 'Position_15', 'Pitch_42', 'Velocity_75', 'Duration_0.6.8', 'Position_19', 'Pitch_49', 'Velocity_79', 'Duration_0.5.8', 'Position_24', 'Pitch_57', 'Velocity_75', 'Duration_0.1.8', 'Position_26', 'Pitch_61', 'Velocity_95', 'Duration_0.4.8', 'Position_28', 'Pitch_66', 'Velocity_87', 'Duration_4.2.4', 'Pitch_42', 'Velocity_63', 'Duration_1.3.8', 'Bar_None']\n"
     ]
    }
   ],
   "source": [
    "# Load the token sequence\n",
    "token_sequence = tokenizer.load_tokens(token_path)[0]\n",
    "\n",
    "# Reverse the vocab dict to map IDs back to strings\n",
    "id_to_token = {v: k for k, v in tokenizer.vocab.items()}\n",
    "\n",
    "# Use it to convert your token IDs\n",
    "token_strings = [id_to_token[i] for i in token_sequence.ids]\n",
    "\n",
    "print(token_strings[:50])\n",
    "\n"
   ]
  },
  {
   "cell_type": "code",
   "execution_count": 3,
   "id": "d5e3529d-2603-4ad0-a116-9c827e0784a5",
   "metadata": {},
   "outputs": [],
   "source": [
    "# Decode the token sequence back into a PrettyMIDI object\n",
    "midi = tokenizer.decode([token_sequence])\n"
   ]
  },
  {
   "cell_type": "code",
   "execution_count": 4,
   "id": "bd14207b-6098-4d13-8705-f861ef29ad5c",
   "metadata": {},
   "outputs": [
    {
     "name": "stdout",
     "output_type": "stream",
     "text": [
      "<class 'symusic.core.ScoreTick'>\n"
     ]
    }
   ],
   "source": [
    "decoded = tokenizer.decode([token_sequence])\n",
    "print(type(decoded))\n"
   ]
  },
  {
   "cell_type": "markdown",
   "id": "01b82af7-7285-4035-9c40-70b08bbf6dac",
   "metadata": {},
   "source": [
    "Doing a quick verification of fluidsynth.  Using the customary pip install of the pyfluidsynth package, hadn't worked as \n",
    "\n",
    "hoped, so downloaded the git repo from the author of the module direct and did a 'pip install .' installation which \n",
    "\n",
    "correctly provided the package to my virtual environment.  "
   ]
  },
  {
   "cell_type": "code",
   "execution_count": 8,
   "id": "0f62f1be-cf90-43ba-9e28-7d883da00834",
   "metadata": {},
   "outputs": [
    {
     "name": "stdout",
     "output_type": "stream",
     "text": [
      "/home/christophermoverton/MelodAI_proj/venv/lib/python3.12/site-packages/fluidsynth.py\n"
     ]
    }
   ],
   "source": [
    "import fluidsynth\n",
    "print(fluidsynth.__file__)\n"
   ]
  },
  {
   "cell_type": "markdown",
   "id": "97339042-7604-41cf-935a-2eb190b8026f",
   "metadata": {},
   "source": [
    "\n",
    "\n",
    "##### Instructions and Notes on MIDI Interpretation\n",
    "\n",
    "To proceed, first run the third cell below (below the humanize_midi function cell) and listen to the MIDI audio file. Then, run the next two cells that proceeds the third cell, and finally, run the third cell again to listen for differences in the performance.\n",
    "\n",
    "##### Understanding the Role of MIDI and Humanization in Musical Interpretation\n",
    "\n",
    "Listening to raw MIDI—even when recorded—often involves quantization, which aligns note timings to exact intervals. This is useful for tasks like transcription into staff notation or producing readable sheet music for concert performance.\n",
    "\n",
    "However, what makes music compelling isn’t just the notes themselves, but how a musician interprets them. This is especially true in classical music, where listeners are drawn not only to the composer but also to the performer’s unique expression of a piece.\n",
    "\n",
    "When you run the third cell before applying any humanization (i.e., before running the other two cells), you'll notice the music sounds somewhat rigid or robotic. This mechanical quality arises from quantization, which eliminates the subtle imperfections found in real performances. While quantization helps create cleaner recordings, it also strips away the \"human\" feel of the performance.\n",
    "\n",
    "To reintroduce that human element, we can take a couple of basic steps, as shown in the cells below:  \n",
    "1. Add the sustain pedal to certain notes (a familiar tool for pianists), and  \n",
    "2. Humanize the MIDI notes by introducing slight randomness.\n",
    "\n",
    "Interestingly, our ears tend to pick up pitch errors more readily than slight timing variations. Before the rise of computer-generated music and synthetic sounds, acoustic instruments like the piano were expected to have natural inconsistencies—slight fluctuations in timing and key velocity (i.e., how hard or softly a note is played).\n",
    "\n",
    "To simulate this natural performance, we add small stochastic variations in timing and velocity. These imperfections make the music sound more organic to human ears. In digital music composition, this phenomenon is often referred to as a neurological-acoustic illusion, somewhat akin to pareidolia. Just as our minds find familiar patterns in random visuals, we perceive nearly impercitible and randomized note timings as sounding more \"correct\" or human—while overly precise, quantized notes may feel awkward or artificial especially if the synthesized note is clipped or truncated relative the expected sound from a natural instrument.  This isn't also to say that we don't have a good sense of arrythmic structure, it just isn't perhaps, as perfect as we like to believe.\n",
    "\n",
    "Even in modern computer-generated music, depending on the style, humanization is often applied to create more natural-sounding drum patterns, instrumental phrasing, or rhythmic grooves.\n",
    "\n",
    "\n"
   ]
  },
  {
   "cell_type": "code",
   "execution_count": 180,
   "id": "e9c2f420-ef09-4b80-a2d7-657b000effb9",
   "metadata": {},
   "outputs": [],
   "source": [
    "import pretty_midi\n",
    "\n",
    "def add_sustain_pedal(midi_obj, start_time=0, end_time=None):\n",
    "    \"\"\"\n",
    "    Adds sustain pedal (CC 64) to the entire MIDI duration or a custom time range.\n",
    "    \"\"\"\n",
    "    if end_time is None:\n",
    "        end_time = midi_obj.get_end_time()\n",
    "\n",
    "    # Sustain ON (CC 64 value 127), then OFF (value 0)\n",
    "    control_changes = [\n",
    "        pretty_midi.ControlChange(number=64, value=127, time=start_time),\n",
    "        pretty_midi.ControlChange(number=64, value=0, time=end_time)\n",
    "    ]\n",
    "\n",
    "    # Apply to all non-drum instruments\n",
    "    for instrument in midi_obj.instruments:\n",
    "        if not instrument.is_drum:\n",
    "            instrument.control_changes.extend(control_changes)\n",
    "\n",
    "add_sustain_pedal(midi)"
   ]
  },
  {
   "cell_type": "code",
   "execution_count": 179,
   "id": "9b9931e7-d009-4e07-88f9-1c2733ae9f97",
   "metadata": {},
   "outputs": [],
   "source": [
    "import random\n",
    "\n",
    "def humanize_midi(midi_obj, timing_variation=0.02, velocity_variation=5):\n",
    "    \"\"\"\n",
    "    Slightly randomize note timing and velocity to sound more human.\n",
    "    \"\"\"\n",
    "    for instrument in midi_obj.instruments:\n",
    "        for note in instrument.notes:\n",
    "            # Shift timing slightly\n",
    "            delta = random.uniform(-timing_variation, timing_variation)\n",
    "            note.start += delta\n",
    "            note.end += delta\n",
    "            \n",
    "            # Clamp to zero if needed\n",
    "            note.start = max(0, note.start)\n",
    "            note.end = max(note.start + 0.01, note.end)  # min length\n",
    "            \n",
    "            # Vary velocity\n",
    "            note.velocity = max(1, min(127, note.velocity + random.randint(-velocity_variation, velocity_variation)))\n",
    "\n",
    "humanize_midi(midi)"
   ]
  },
  {
   "cell_type": "code",
   "execution_count": null,
   "id": "c7796543-9c72-4f8a-8685-1e4be627aaad",
   "metadata": {},
   "outputs": [],
   "source": [
    "from IPython.display import Audio\n",
    "import fluidsynth\n",
    "\n",
    "audio = Audio(midi.fluidsynth(), rate=44100)\n",
    "audio\n"
   ]
  },
  {
   "cell_type": "markdown",
   "id": "17d639db-c46d-4537-8339-835e42667b1b",
   "metadata": {},
   "source": [
    "Here is the familiar piano roll shown below.  Note pitch increasing on the descending y axis, while it is lower on the upper y axis.  If you have any familarity working with Digital Audio Workstation software, you will see the Piano Roll commonly as a compositional tool.  Typically, amongst zooming features on both axis, you can also see quantized grid overlays that show where the note exist relative the quantized grid.  Most basic DAW software allows one to select quantize sections of a given music piece (or all) so that it conforms to the nearest neighbor quantization point.  The Piano roll name also derives from the concept of the literal piano roll which was ostensibly long paper rolled between two pins.  In 1880 some pianos had foot pumped pneumatic systems that allowed a piano with piano roll capabilities to automate the playing of a piano roll loaded song into the piano.  The piano roll worked not unlike a music box that had a spiked cylinder which represented timing and pitch of a note, however, even more that would include duration of notes (and foot pedaling expressions).  In the case of the piano roll notation on the heavy paper, there were dots or longer dashes cutout in the paper along a y-axsis representing note pitch, and the longer dash for example represented length-wise on the axis of the paper represented note duration.  "
   ]
  },
  {
   "cell_type": "code",
   "execution_count": 7,
   "id": "b5cd36ea-51db-4833-ae61-f37962160d62",
   "metadata": {},
   "outputs": [
    {
     "data": {
      "image/png": "[encoded data removed]",
      "text/plain": [
       "<Figure size 1200x600 with 1 Axes>"
      ]
     },
     "metadata": {},
     "output_type": "display_data"
    }
   ],
   "source": [
    "import matplotlib.pyplot as plt\n",
    "import pretty_midi\n",
    "import numpy as np\n",
    "\n",
    "def plot_piano_roll(midi_obj, instrument_idx=0):\n",
    "    instrument = midi_obj.instruments[instrument_idx]\n",
    "    notes = instrument.notes\n",
    "\n",
    "    starts = [note.start for note in notes]\n",
    "    durations = [note.end - note.start for note in notes]\n",
    "    pitches = [note.pitch for note in notes]\n",
    "\n",
    "    plt.figure(figsize=(12, 6))\n",
    "    for start, duration, pitch in zip(starts, durations, pitches):\n",
    "        plt.barh(y=pitch, width=duration, left=start, height=0.6)\n",
    "\n",
    "    plt.xlabel(\"Time (s)\")\n",
    "    plt.ylabel(\"MIDI Pitch\")\n",
    "    plt.title(\"Piano Roll\")\n",
    "    plt.gca().invert_yaxis()  # Highest pitch at top\n",
    "    plt.grid(True)\n",
    "    plt.tight_layout()\n",
    "    plt.show()\n",
    "\n",
    "# Call the plot\n",
    "plot_piano_roll(midi)\n"
   ]
  },
  {
   "cell_type": "markdown",
   "id": "ab3318bb-5feb-4b36-84dc-4e2873f827d3",
   "metadata": {},
   "source": [
    "### Tokenization for Modeling\n",
    "\n",
    "As indicated before, let's go ahead and setup our stuctured tokenization.  Since we are using a GPT-like transformer, I'd like to keep the training simpler in terms of prepared data.  I won't actually fit the tokenizer with training data since this builds a custom vocabulary for the tokenizer, but in doing so given the bulk of the dataset, it is difficult to capture all possible vocabularies since a note event representing a token (like word) could have $(j*k*l*m)$ discrete permutations where $j$ is all the possible discrete note pitch variations $j= 127$, $k =$ duration$=15$ for basic duration variances,  $l =$ velocity $= 127$ (distinct) variations, and $m =$ timeshift $= 15$ (again basic variations) $= 3,629,025$ possible tokens (words). If we were to build a larger discrete set for duration and timeshift then this number grows larger.  We could restrict to the minimum and maximum pitch boundaries, as well as velocity signatures for the entirety of the dataset, but I'll leave this as open opportunity for future research, and opt that we don't train the custom vocabulary.  This, in effect, leaves the default pitch -> velocity -> duration -> timeshift tokenization pattern. That is, we will for our first model setup tokenize with attributes mapped to word tokens distinctly.  "
   ]
  },
  {
   "cell_type": "code",
   "execution_count": 206,
   "id": "64d0724c-d3df-40da-a6bd-c6dd48959657",
   "metadata": {},
   "outputs": [],
   "source": [
    "import pandas as pd\n",
    "\n",
    "df = pd.read_csv(\"data/maestro/maestro-v3.0.0/maestro-v3.0.0.csv\")\n",
    "\n",
    "train_files = df[df[\"split\"] == \"train\"][\"midi_filename\"].tolist()\n",
    "val_files = df[df[\"split\"] == \"validation\"][\"midi_filename\"].tolist()\n",
    "test_files = df[df[\"split\"] == \"test\"][\"midi_filename\"].tolist()\n"
   ]
  },
  {
   "cell_type": "code",
   "execution_count": 29,
   "id": "ae585e93-f2b5-48af-8321-e97ef27cb555",
   "metadata": {
    "scrolled": true
   },
   "outputs": [],
   "source": [
    "from miditok import Structured\n",
    "from pathlib import Path\n",
    "tokenizer = Structured()\n",
    "#mpaths = []\n",
    "#for midi_file in train_files:\n",
    "#    midi_path = Path(\"data/maestro/maestro-v3.0.0\") / midi_file\n",
    "#    mpaths.append(midi_path)\n",
    "#print(mpaths)\n",
    "#tokenizer.train(\n",
    "#    vocab_size=20000, files_paths=mpaths\n",
    "#)\n"
   ]
  },
  {
   "cell_type": "markdown",
   "id": "d9fbc1f2-8ef2-4d5b-877e-4576c7a66710",
   "metadata": {},
   "source": [
    "If we had a custom tokenization configuration that we wanted to save, we could do so below."
   ]
  },
  {
   "cell_type": "code",
   "execution_count": 5,
   "id": "c7f422a5-6702-497c-a986-625ad9dc5801",
   "metadata": {},
   "outputs": [
    {
     "name": "stderr",
     "output_type": "stream",
     "text": [
      "/tmp/ipykernel_326418/1847007467.py:1: UserWarning: miditok: The `save_params` method had been renamed `save`. It is now depreciated and will be removed in future updates.\n",
      "  tokenizer.save_params(\"tokenizer_configs/remi_clean.json\")\n"
     ]
    }
   ],
   "source": [
    "tokenizer.save_params(\"tokenizer_configs/remi_clean.json\")\n"
   ]
  },
  {
   "cell_type": "markdown",
   "id": "aad964d0-ff73-4286-bd46-ae9e366fe54f",
   "metadata": {},
   "source": [
    "Similarly loading the configuration for our tokenizer"
   ]
  },
  {
   "cell_type": "code",
   "execution_count": 3,
   "id": "67623359-6325-465f-81c9-59dcbf13f397",
   "metadata": {},
   "outputs": [
    {
     "name": "stderr",
     "output_type": "stream",
     "text": [
      "/home/christophermoverton/MelodAI_proj/venv/lib/python3.12/site-packages/tqdm/auto.py:21: TqdmWarning: IProgress not found. Please update jupyter and ipywidgets. See https://ipywidgets.readthedocs.io/en/stable/user_install.html\n",
      "  from .autonotebook import tqdm as notebook_tqdm\n"
     ]
    }
   ],
   "source": [
    "from miditok import Structured\n",
    "\n",
    "# Load the tokenizer from saved config\n",
    "tokenizer = Structured(params=\"tokenizer_configs/remi_clean.json\")"
   ]
  },
  {
   "cell_type": "markdown",
   "id": "e7a1066b-80d0-45b4-8c43-e0675bad45ea",
   "metadata": {},
   "source": [
    "Let's go ahead and create the file tokenizations for train, test, and split datasets."
   ]
  },
  {
   "cell_type": "code",
   "execution_count": 32,
   "id": "e23896b2-c280-4429-889e-743e16d97a5f",
   "metadata": {},
   "outputs": [],
   "source": [
    "from pathlib import Path\n",
    "def save_tokenized_split(tv_files, split_name):\n",
    "    for midi_file in tv_files:\n",
    "        midi_path = Path(\"data/maestro/maestro-v3.0.0\") / midi_file\n",
    "        try:\n",
    "            tokens = tokenizer(midi_path)\n",
    "            out_path = Path(f\"data/tokens/remi/{split_name}\") / midi_file.replace(\".midi\", \".json\")\n",
    "            out_path.parent.mkdir(parents=True, exist_ok=True)\n",
    "            tokenizer.save_tokens(tokens, out_path)\n",
    "        except Exception as e:\n",
    "            print(f\"Error tokenizing {midi_file}: {e}\")\n",
    "\n",
    "save_tokenized_split(train_files, \"train\")\n",
    "save_tokenized_split(val_files, \"validation\")\n",
    "save_tokenized_split(test_files, \"test\")\n"
   ]
  },
  {
   "cell_type": "code",
   "execution_count": 28,
   "id": "0ad22bbb-2287-4166-af70-67c5fd6ed682",
   "metadata": {},
   "outputs": [
    {
     "name": "stdout",
     "output_type": "stream",
     "text": [
      "dict_keys(['ids', 'ids_encoded'])\n"
     ]
    }
   ],
   "source": [
    "tp = \"data/tokens/remi/train/2004/MIDI-Unprocessed_SMF_05_R1_2004_01_ORIG_MID--AUDIO_05_R1_2004_02_Track02_wav.json\"\n",
    "\n",
    "load_token_ids(tp)"
   ]
  },
  {
   "cell_type": "markdown",
   "id": "80742d40-8a9a-447d-bfa4-36a0905ebf9e",
   "metadata": {},
   "source": [
    "Here is a little helper function that helps us basically load the tokenized and encoded song data.  Note: using the \"0\" represents our piano instrument.  These aren't multi-instrument compositions, otherwise, we would have tokenizers spread accross a much larger multi-dimensional array."
   ]
  },
  {
   "cell_type": "code",
   "execution_count": 33,
   "id": "ca9dd1e8-92bc-4faf-b96c-b1cb142b22ed",
   "metadata": {},
   "outputs": [],
   "source": [
    "import json\n",
    "\n",
    "def load_token_ids(json_path):\n",
    "    with open(json_path, \"r\") as f:\n",
    "        data = json.load(f)\n",
    "        #print(data.keys())\n",
    "        #print(data[\"ids\"][0])\n",
    "    return data[\"ids\"][0]\n"
   ]
  },
  {
   "cell_type": "markdown",
   "id": "a5dbccba-ded0-4b20-8757-ca28a2074f0f",
   "metadata": {},
   "source": [
    "To be mindful of our song data, we can think of this data sort of like the video, only there is only a time-series sound component.  Whereas video with images over time-series can represent a lot of data (not withstanding the audio component), it is no less true that there is a lot of time-series data, and we aren't loading merely just the song data, but we are using a sliding window approach to this which is the common methodology for training the GPT-like transformer.  The sliding window means can be visualized like a window of fixed length that has zoomed into a specific length of tokenized music data on the piano roll.  Just as we move the window (that is much smaller width-wise then the piano roll), we are sliding it from left-to-right, so that our GPT-like transformer is learning from the data output from this window.  Its a lot of repeating token data, so with smaller RAM or GPU on board memory, means that streaming the dataset is perferrable."
   ]
  },
  {
   "cell_type": "code",
   "execution_count": 127,
   "id": "001841c7-e2c8-4680-be0e-c4a7a723bf2e",
   "metadata": {},
   "outputs": [],
   "source": [
    "import tensorflow as tf\n",
    "from pathlib import Path\n",
    "\n",
    "def sequence_generator(token_dir, max_seq_len=512, pad_token_id=0):\n",
    "    token_dir = Path(token_dir)\n",
    "    files = list(token_dir.glob(\"**/*.json\"))\n",
    "\n",
    "    for file in files:\n",
    "        try:\n",
    "            ids = load_token_ids(file)\n",
    "            for i in range(0, len(ids) - max_seq_len, 1):\n",
    "\n",
    "                seq = ids[i:i + max_seq_len + 1]\n",
    "                # Skip if too short to train on\n",
    "                if len(seq) < 2:\n",
    "                    continue\n",
    "\n",
    "                # Pad input/target to fixed length\n",
    "                input_seq = seq[:-1]\n",
    "                target_seq = seq[1:]\n",
    "\n",
    "                input_seq += [pad_token_id] * (max_seq_len - len(input_seq))\n",
    "                target_seq += [pad_token_id] * (max_seq_len - len(target_seq))\n",
    "                yield input_seq, target_seq\n",
    "        except Exception as e:\n",
    "            print(f\"Error processing {file.name}: {e}\")\n",
    "\n",
    "def build_streaming_dataset(token_dir, max_seq_len=512, batch_size=8, buffer_size=1000):\n",
    "    output_signature = (\n",
    "        tf.TensorSpec(shape=(max_seq_len,), dtype=tf.int32),\n",
    "        tf.TensorSpec(shape=(max_seq_len,), dtype=tf.int32)\n",
    "    )\n",
    "    pad_token_id = tokenizer['PAD_None']\n",
    "\n",
    "    dataset = tf.data.Dataset.from_generator(\n",
    "        lambda: sequence_generator(token_dir, max_seq_len, pad_token_id),\n",
    "        output_signature=output_signature,\n",
    "    )\n",
    "\n",
    "    return dataset.shuffle(buffer_size).batch(batch_size).prefetch(tf.data.AUTOTUNE)\n"
   ]
  },
  {
   "cell_type": "code",
   "execution_count": 128,
   "id": "78926a20-d493-40a3-b920-18abe2e14413",
   "metadata": {},
   "outputs": [],
   "source": [
    "train_ds = build_streaming_dataset(\"data/tokens/remi/train\", max_seq_len=512, batch_size=8)\n",
    "val_ds   = build_streaming_dataset(\"data/tokens/remi/validation\", max_seq_len=512, batch_size=8)\n",
    "test_ds  = build_streaming_dataset(\"data/tokens/remi/test\", max_seq_len=512, batch_size=8)\n",
    "\n"
   ]
  },
  {
   "cell_type": "code",
   "execution_count": 129,
   "id": "0bb2ee40-8840-4605-84dd-24b70fa8aa91",
   "metadata": {},
   "outputs": [
    {
     "name": "stdout",
     "output_type": "stream",
     "text": [
      "Sample val batch: (8, 512)\n"
     ]
    }
   ],
   "source": [
    "for batch in val_ds.take(1):\n",
    "    print(\"Sample val batch:\", batch[0].shape)\n"
   ]
  },
  {
   "cell_type": "markdown",
   "id": "91aebe1f-8650-48a5-a828-a199f4e51bf4",
   "metadata": {},
   "source": [
    "Just how many windows (sequence) samples exist for the entirety of this data set.  Around 900,000 samples!  Depending on how fast your GPU is training, if it is around 55 ms/second, this is around 14 hours for 1 epoch of training!  :).  Fortunately, if your training is around 6 ms/second, it is about 9 times less time, or maybe around and 1.5 hours per epoch which is reasonable.  I've opted to limit the batch for both train and validation sets."
   ]
  },
  {
   "cell_type": "code",
   "execution_count": 130,
   "id": "147b8ad4-2f2b-43a2-8b28-0225ff6ad12e",
   "metadata": {},
   "outputs": [],
   "source": [
    "train_ds = train_ds.take(10000)  # take 10,000 windows\n",
    "val_ds = val_ds.take(1000)       # take 1,000 windows\n"
   ]
  },
  {
   "cell_type": "markdown",
   "id": "6e8912bc-7d3c-4a16-8d7a-4287d96a2744",
   "metadata": {},
   "source": [
    "### Model\n",
    "\n",
    "##### The Transformer Model Includes:\n",
    "\n",
    "- Multi-Head Attention: Allows the model to focus on multiple relevant parts of the sequence simultaneously, capturing relationships between distant tokens—such as harmony, rhythm, or recurring motifs.\n",
    "\n",
    "- Sequential Feed-Forward Network (FFN): Projects the input into a higher-dimensional space, applies a ReLU activation for non-linear learning, and then projects it back down to the original embedding size. This enables the model to learn complex, hierarchical patterns.\n",
    "\n",
    "- Residual Connection (Skip Connection): Adds the original input back into the output of a layer. This stabilizes learning, preserves earlier information, and speeds up convergence by preventing vanishing gradients.\n",
    "\n",
    "- Layer Normalization: Normalizes activations to stabilize and accelerate training.\n",
    "\n",
    "- Dropout: Randomly drops units during training to prevent overfitting and improve generalization.\n",
    "\n",
    "##### What Happens in a Transformer Block?\n",
    "\n",
    "The `call` method in the model performs the following:\n",
    "1. Applies self-attention → dropout → residual connection + normalization  \n",
    "2. Applies FFN → dropout → another residual connection + normalization  \n",
    "3. Returns a sequence of contextualized token embeddings that capture the learned relationships in the input sequence.\n",
    "\n",
    "##### Why Use This Transformer Architecture for Music?\n",
    "\n",
    "Transformers are exceptionally effective at sequence modeling. Unlike RNNs or LSTMs, which process sequences step by step, Transformers can attend to the entire sequence at once. This makes it easier to identify long-range dependencies, such as:\n",
    "- Chord structures\n",
    "- Melodic phrases\n",
    "- Rhythmic motifs\n",
    "\n",
    "They also scale efficiently. Transformers are highly parallelizable, making them faster to train and more suitable for large datasets or longer sequences—like full musical compositions.\n",
    "\n",
    "##### Token Position and Embedding\n",
    "In this Transformer-based model for MIDI music generation, each musical event—such as a pitch, time shift, duration, or velocity—is represented as a discrete token. These tokens are first passed through an embedding layer, which transforms each one into a dense vector of fixed size. This allows the model to capture meaningful relationships between different types of musical events beyond simple integer IDs. However, because Transformers process sequences in parallel, they don’t inherently understand the order of the tokens. To solve this, the model also uses positional embeddings, which assign each token a learned vector based on its position in the sequence. By adding the token embedding and the position embedding together, the model gains both semantic understanding of the token and contextual awareness of its place in the musical timeline—crucial for modeling patterns like rhythm, phrasing, and harmonic progression.\n"
   ]
  },
  {
   "cell_type": "code",
   "execution_count": 131,
   "id": "82d14cab-24ae-4bf9-9d79-6f07299c1e3a",
   "metadata": {},
   "outputs": [],
   "source": [
    "import tensorflow as tf\n",
    "from tensorflow.keras import layers, Model\n"
   ]
  },
  {
   "cell_type": "code",
   "execution_count": 132,
   "id": "8cf835c9-10fd-462f-8542-4bbc086cc6d1",
   "metadata": {},
   "outputs": [],
   "source": [
    "class TransformerBlock(layers.Layer):\n",
    "    def __init__(self, embed_dim, num_heads, ff_dim, rate=0.3):\n",
    "        super().__init__()\n",
    "        self.att = layers.MultiHeadAttention(num_heads=num_heads, key_dim=embed_dim)\n",
    "        self.ffn = tf.keras.Sequential([\n",
    "            layers.Dense(ff_dim, activation='relu'),\n",
    "            layers.Dense(embed_dim)\n",
    "        ])\n",
    "        self.layernorm1 = layers.LayerNormalization()\n",
    "        self.layernorm2 = layers.LayerNormalization()\n",
    "        self.dropout1 = layers.Dropout(rate)\n",
    "        self.dropout2 = layers.Dropout(rate)\n",
    "\n",
    "    def call(self, inputs, training, mask=None):\n",
    "        attn_output = self.att(inputs, inputs, attention_mask=mask)\n",
    "        attn_output = self.dropout1(attn_output, training=training)\n",
    "        \n",
    "        out1 = self.layernorm1(inputs + attn_output)\n",
    "        ffn_output = self.ffn(out1)\n",
    "        ffn_output = self.dropout2(ffn_output, training=training)\n",
    "        return self.layernorm2(out1 + ffn_output)\n"
   ]
  },
  {
   "cell_type": "code",
   "execution_count": 133,
   "id": "737ab7da-a360-4c5b-b923-38936ec66bee",
   "metadata": {},
   "outputs": [],
   "source": [
    "class TokenAndPositionEmbedding(layers.Layer):\n",
    "    def __init__(self, maxlen, vocab_size, embed_dim):\n",
    "        super().__init__()\n",
    "        self.token_emb = layers.Embedding(input_dim=vocab_size, output_dim=embed_dim)\n",
    "        self.pos_emb = layers.Embedding(input_dim=maxlen, output_dim=embed_dim)\n",
    "\n",
    "    def call(self, x):\n",
    "        maxlen = tf.shape(x)[-1]\n",
    "        positions = tf.range(start=0, limit=maxlen, delta=1)\n",
    "        positions = self.pos_emb(positions)\n",
    "        x = self.token_emb(x)\n",
    "        return x + positions\n"
   ]
  },
  {
   "cell_type": "code",
   "execution_count": 134,
   "id": "32aac6e1-58aa-4873-9f51-545d42e77885",
   "metadata": {},
   "outputs": [],
   "source": [
    "def build_transformer_model(vocab_size, maxlen=512, embed_dim=128, num_heads=2, ff_dim=256, num_layers=3):\n",
    "    inputs = layers.Input(shape=(maxlen,))\n",
    "    x = TokenAndPositionEmbedding(maxlen, vocab_size, embed_dim)(inputs)\n",
    "\n",
    "    for _ in range(num_layers):\n",
    "        x = TransformerBlock(embed_dim, num_heads, ff_dim)(x, training=True)\n",
    "\n",
    "    outputs = layers.Dense(vocab_size)(x)\n",
    "\n",
    "    model = Model(inputs, outputs)\n",
    "    return model\n"
   ]
  },
  {
   "cell_type": "code",
   "execution_count": 14,
   "id": "8f9953a6-b6a8-480b-9ff4-daed96bd1d85",
   "metadata": {},
   "outputs": [
    {
     "name": "stdout",
     "output_type": "stream",
     "text": [
      "2.19.0\n"
     ]
    }
   ],
   "source": [
    "import tensorflow as tf\n",
    "print(tf.__version__)"
   ]
  },
  {
   "cell_type": "code",
   "execution_count": 13,
   "id": "9cc85a84-f9a9-432f-a371-8018b73ced9d",
   "metadata": {},
   "outputs": [
    {
     "data": {
      "text/plain": [
       "['__call__',\n",
       " '__class__',\n",
       " '__delattr__',\n",
       " '__dict__',\n",
       " '__dir__',\n",
       " '__doc__',\n",
       " '__eq__',\n",
       " '__format__',\n",
       " '__ge__',\n",
       " '__getattribute__',\n",
       " '__getstate__',\n",
       " '__gt__',\n",
       " '__hash__',\n",
       " '__init__',\n",
       " '__init_subclass__',\n",
       " '__le__',\n",
       " '__lt__',\n",
       " '__module__',\n",
       " '__ne__',\n",
       " '__new__',\n",
       " '__reduce__',\n",
       " '__reduce_ex__',\n",
       " '__repr__',\n",
       " '__setattr__',\n",
       " '__sizeof__',\n",
       " '__str__',\n",
       " '__subclasshook__',\n",
       " '__weakref__',\n",
       " '_api_export_path',\n",
       " '_api_export_symbol_id',\n",
       " '_obj_type',\n",
       " '_unpickle_model',\n",
       " 'call',\n",
       " 'dtype',\n",
       " 'from_config',\n",
       " 'get_config']"
      ]
     },
     "execution_count": 13,
     "metadata": {},
     "output_type": "execute_result"
    }
   ],
   "source": [
    "dir(tf.keras.losses.SparseCategoricalCrossentropy)"
   ]
  },
  {
   "cell_type": "markdown",
   "id": "310161fe-3189-4bea-9560-48d67f58e450",
   "metadata": {},
   "source": [
    "If following a little bit of the cells above, I was attempting to verify the version of tensorflow installed for WSL (Linux in Windows).  I am running my notebook locally and WSL makes for easy windows based tensorflow with CUDA (GPU use) based installation, and we can use the python pip virtual environment for package management without a need for anaconda.  The problem is that even though this version of tensorflow does allow for label smoothing, it isn't readily available for the version of python installed by default with tensorflow, so there is formally no label smoothing function natively integrate with Sparse Categorical Crossentropy...label smoothing, in theory, should improve validation accuracy which is why I wanted this for training the model!  Since we don't have this (shown below), I went ahead and did a simple custom function and integrated into the SparseCategoricalCrossentropy class instance."
   ]
  },
  {
   "cell_type": "code",
   "execution_count": 14,
   "id": "a5ee7266-e829-4d02-8e7f-471f753fe18b",
   "metadata": {},
   "outputs": [
    {
     "name": "stdout",
     "output_type": "stream",
     "text": [
      "❌ Still broken: SparseCategoricalCrossentropy.__init__() got an unexpected keyword argument 'label_smoothing'\n"
     ]
    }
   ],
   "source": [
    "from tensorflow.keras.losses import SparseCategoricalCrossentropy\n",
    "\n",
    "try:\n",
    "    loss = SparseCategoricalCrossentropy(from_logits=True, label_smoothing=0.1)\n",
    "    print(\"✅ Label smoothing is supported!\")\n",
    "except TypeError as e:\n",
    "    print(\"❌ Still broken:\", e)\n"
   ]
  },
  {
   "cell_type": "code",
   "execution_count": 15,
   "id": "c44d6ef8-5edb-4d21-a30a-9f0d0b960b5e",
   "metadata": {},
   "outputs": [
    {
     "name": "stdout",
     "output_type": "stream",
     "text": [
      "TensorFlow version: 2.19.0\n",
      "TensorFlow module path: /home/christophermoverton/MelodAI_proj/venv/lib/python3.12/site-packages/tensorflow/__init__.py\n",
      "Python executable: /home/christophermoverton/MelodAI_proj/venv/bin/python\n",
      "Python version: 3.12.3 (main, Feb  4 2025, 14:48:35) [GCC 13.3.0]\n"
     ]
    }
   ],
   "source": [
    "import tensorflow as tf\n",
    "import sys\n",
    "import os\n",
    "\n",
    "print(\"TensorFlow version:\", tf.__version__)\n",
    "print(\"TensorFlow module path:\", tf.__file__)\n",
    "print(\"Python executable:\", sys.executable)\n",
    "print(\"Python version:\", sys.version)\n",
    "\n",
    "\n"
   ]
  },
  {
   "cell_type": "markdown",
   "id": "53c30c9f-5733-4070-b908-e371982136b2",
   "metadata": {},
   "source": [
    "###  Smoothed Sparse Categorical Crossentropy\n",
    "\n",
    "The standard categorical crossentropy loss compares the model's predicted probability distribution to a one-hot encoded target typically.  The correct class is assigned a value of 1 and all others 0.  This promotes the model to become highly confident in its prediction.  However, the downside of this is over-confidence which can lead to overfitting where instead multiple tokens could be reasonable given context.  To fix this issue, we can introduce label smoothing which is a regularization technique that softens target labels distributing a small portion of  probability mass across all classes.  Instead of telling the model that one token is 100% correct, more flexibility is integrated using label smoothing - indicating while one token is perferrred, others might be valid.  This leads to better generalization, more diverse and expressive outputs, and greater robustness to ambiguous and noisy data.  "
   ]
  },
  {
   "cell_type": "code",
   "execution_count": 135,
   "id": "dcaa68dd-baeb-4650-a62b-acaebba9439b",
   "metadata": {},
   "outputs": [],
   "source": [
    "import tensorflow as tf\n",
    "\n",
    "class SmoothedSparseCategoricalCrossentropy(tf.keras.losses.Loss):\n",
    "    def __init__(self, vocab_size, label_smoothing=0.1, from_logits=True, name=\"smoothed_sparse_cce\"):\n",
    "        super().__init__(name=name)\n",
    "        self.vocab_size = vocab_size\n",
    "        self.label_smoothing = label_smoothing\n",
    "        self.from_logits = from_logits\n",
    "        self.cce = tf.keras.losses.CategoricalCrossentropy(from_logits=from_logits)\n",
    "\n",
    "    def call(self, y_true, y_pred):\n",
    "        # y_true: [batch_size, seq_len] (integers)\n",
    "\n",
    "        # Convert to one-hot\n",
    "        #y_true = tf.one_hot(y_true, depth=self.vocab_size)\n",
    "        y_true = tf.one_hot(tf.cast(y_true, tf.int32), depth=self.vocab_size)\n",
    "\n",
    "        # Apply label smoothing\n",
    "        smooth_positives = 1.0 - self.label_smoothing\n",
    "        smooth_negatives = self.label_smoothing / tf.cast(self.vocab_size, tf.float32)\n",
    "        y_true = y_true * smooth_positives + smooth_negatives\n",
    "\n",
    "        return self.cce(y_true, y_pred)"
   ]
  },
  {
   "cell_type": "markdown",
   "id": "89963eca-8b05-4996-8e50-c707f8e399b0",
   "metadata": {},
   "source": [
    "We will use the default settings with feed-forward networks set to 256 dimensions, embedding dimensions at 128, and the number of transformer layers (blocks) set to 3. These values can be increased if desired to enhance model capacity, but doing so also raises the risk of overfitting, especially with smaller datasets. It's worth noting that large language models (LLMs) based on GPT architectures often contain billions of parameters, allowing them to learn from massive and diverse datasets. However, the scale and nature of those datasets are vastly different from the symbolic music data we are working with here."
   ]
  },
  {
   "cell_type": "code",
   "execution_count": 136,
   "id": "1c79d541-c762-4b03-bdc1-e73590389f9b",
   "metadata": {},
   "outputs": [
    {
     "data": {
      "text/html": [
       "<pre style=\"white-space:pre;overflow-x:auto;line-height:normal;font-family:Menlo,'DejaVu Sans Mono',consolas,'Courier New',monospace\"><span style=\"font-weight: bold\">Model: \"functional_11\"</span>\n",
       "</pre>\n"
      ],
      "text/plain": [
       "\u001b[1mModel: \"functional_11\"\u001b[0m\n"
      ]
     },
     "metadata": {},
     "output_type": "display_data"
    },
    {
     "data": {
      "text/html": [
       "<pre style=\"white-space:pre;overflow-x:auto;line-height:normal;font-family:Menlo,'DejaVu Sans Mono',consolas,'Courier New',monospace\">┏━━━━━━━━━━━━━━━━━━━━━━━━━━━━━━━━━┳━━━━━━━━━━━━━━━━━━━━━━━━┳━━━━━━━━━━━━━━━┓\n",
       "┃<span style=\"font-weight: bold\"> Layer (type)                    </span>┃<span style=\"font-weight: bold\"> Output Shape           </span>┃<span style=\"font-weight: bold\">       Param # </span>┃\n",
       "┡━━━━━━━━━━━━━━━━━━━━━━━━━━━━━━━━━╇━━━━━━━━━━━━━━━━━━━━━━━━╇━━━━━━━━━━━━━━━┩\n",
       "│ input_layer_8 (<span style=\"color: #0087ff; text-decoration-color: #0087ff\">InputLayer</span>)      │ (<span style=\"color: #00d7ff; text-decoration-color: #00d7ff\">None</span>, <span style=\"color: #00af00; text-decoration-color: #00af00\">512</span>)            │             <span style=\"color: #00af00; text-decoration-color: #00af00\">0</span> │\n",
       "├─────────────────────────────────┼────────────────────────┼───────────────┤\n",
       "│ token_and_position_embedding_2  │ (<span style=\"color: #00d7ff; text-decoration-color: #00d7ff\">None</span>, <span style=\"color: #00af00; text-decoration-color: #00af00\">512</span>, <span style=\"color: #00af00; text-decoration-color: #00af00\">128</span>)       │       <span style=\"color: #00af00; text-decoration-color: #00af00\">105,728</span> │\n",
       "│ (<span style=\"color: #0087ff; text-decoration-color: #0087ff\">TokenAndPositionEmbedding</span>)     │                        │               │\n",
       "├─────────────────────────────────┼────────────────────────┼───────────────┤\n",
       "│ transformer_block_6             │ (<span style=\"color: #00d7ff; text-decoration-color: #00d7ff\">None</span>, <span style=\"color: #00af00; text-decoration-color: #00af00\">512</span>, <span style=\"color: #00af00; text-decoration-color: #00af00\">128</span>)       │       <span style=\"color: #00af00; text-decoration-color: #00af00\">198,400</span> │\n",
       "│ (<span style=\"color: #0087ff; text-decoration-color: #0087ff\">TransformerBlock</span>)              │                        │               │\n",
       "├─────────────────────────────────┼────────────────────────┼───────────────┤\n",
       "│ transformer_block_7             │ (<span style=\"color: #00d7ff; text-decoration-color: #00d7ff\">None</span>, <span style=\"color: #00af00; text-decoration-color: #00af00\">512</span>, <span style=\"color: #00af00; text-decoration-color: #00af00\">128</span>)       │       <span style=\"color: #00af00; text-decoration-color: #00af00\">198,400</span> │\n",
       "│ (<span style=\"color: #0087ff; text-decoration-color: #0087ff\">TransformerBlock</span>)              │                        │               │\n",
       "├─────────────────────────────────┼────────────────────────┼───────────────┤\n",
       "│ transformer_block_8             │ (<span style=\"color: #00d7ff; text-decoration-color: #00d7ff\">None</span>, <span style=\"color: #00af00; text-decoration-color: #00af00\">512</span>, <span style=\"color: #00af00; text-decoration-color: #00af00\">128</span>)       │       <span style=\"color: #00af00; text-decoration-color: #00af00\">198,400</span> │\n",
       "│ (<span style=\"color: #0087ff; text-decoration-color: #0087ff\">TransformerBlock</span>)              │                        │               │\n",
       "├─────────────────────────────────┼────────────────────────┼───────────────┤\n",
       "│ dense_20 (<span style=\"color: #0087ff; text-decoration-color: #0087ff\">Dense</span>)                │ (<span style=\"color: #00d7ff; text-decoration-color: #00d7ff\">None</span>, <span style=\"color: #00af00; text-decoration-color: #00af00\">512</span>, <span style=\"color: #00af00; text-decoration-color: #00af00\">314</span>)       │        <span style=\"color: #00af00; text-decoration-color: #00af00\">40,506</span> │\n",
       "└─────────────────────────────────┴────────────────────────┴───────────────┘\n",
       "</pre>\n"
      ],
      "text/plain": [
       "┏━━━━━━━━━━━━━━━━━━━━━━━━━━━━━━━━━┳━━━━━━━━━━━━━━━━━━━━━━━━┳━━━━━━━━━━━━━━━┓\n",
       "┃\u001b[1m \u001b[0m\u001b[1mLayer (type)                   \u001b[0m\u001b[1m \u001b[0m┃\u001b[1m \u001b[0m\u001b[1mOutput Shape          \u001b[0m\u001b[1m \u001b[0m┃\u001b[1m \u001b[0m\u001b[1m      Param #\u001b[0m\u001b[1m \u001b[0m┃\n",
       "┡━━━━━━━━━━━━━━━━━━━━━━━━━━━━━━━━━╇━━━━━━━━━━━━━━━━━━━━━━━━╇━━━━━━━━━━━━━━━┩\n",
       "│ input_layer_8 (\u001b[38;5;33mInputLayer\u001b[0m)      │ (\u001b[38;5;45mNone\u001b[0m, \u001b[38;5;34m512\u001b[0m)            │             \u001b[38;5;34m0\u001b[0m │\n",
       "├─────────────────────────────────┼────────────────────────┼───────────────┤\n",
       "│ token_and_position_embedding_2  │ (\u001b[38;5;45mNone\u001b[0m, \u001b[38;5;34m512\u001b[0m, \u001b[38;5;34m128\u001b[0m)       │       \u001b[38;5;34m105,728\u001b[0m │\n",
       "│ (\u001b[38;5;33mTokenAndPositionEmbedding\u001b[0m)     │                        │               │\n",
       "├─────────────────────────────────┼────────────────────────┼───────────────┤\n",
       "│ transformer_block_6             │ (\u001b[38;5;45mNone\u001b[0m, \u001b[38;5;34m512\u001b[0m, \u001b[38;5;34m128\u001b[0m)       │       \u001b[38;5;34m198,400\u001b[0m │\n",
       "│ (\u001b[38;5;33mTransformerBlock\u001b[0m)              │                        │               │\n",
       "├─────────────────────────────────┼────────────────────────┼───────────────┤\n",
       "│ transformer_block_7             │ (\u001b[38;5;45mNone\u001b[0m, \u001b[38;5;34m512\u001b[0m, \u001b[38;5;34m128\u001b[0m)       │       \u001b[38;5;34m198,400\u001b[0m │\n",
       "│ (\u001b[38;5;33mTransformerBlock\u001b[0m)              │                        │               │\n",
       "├─────────────────────────────────┼────────────────────────┼───────────────┤\n",
       "│ transformer_block_8             │ (\u001b[38;5;45mNone\u001b[0m, \u001b[38;5;34m512\u001b[0m, \u001b[38;5;34m128\u001b[0m)       │       \u001b[38;5;34m198,400\u001b[0m │\n",
       "│ (\u001b[38;5;33mTransformerBlock\u001b[0m)              │                        │               │\n",
       "├─────────────────────────────────┼────────────────────────┼───────────────┤\n",
       "│ dense_20 (\u001b[38;5;33mDense\u001b[0m)                │ (\u001b[38;5;45mNone\u001b[0m, \u001b[38;5;34m512\u001b[0m, \u001b[38;5;34m314\u001b[0m)       │        \u001b[38;5;34m40,506\u001b[0m │\n",
       "└─────────────────────────────────┴────────────────────────┴───────────────┘\n"
      ]
     },
     "metadata": {},
     "output_type": "display_data"
    },
    {
     "data": {
      "text/html": [
       "<pre style=\"white-space:pre;overflow-x:auto;line-height:normal;font-family:Menlo,'DejaVu Sans Mono',consolas,'Courier New',monospace\"><span style=\"font-weight: bold\"> Total params: </span><span style=\"color: #00af00; text-decoration-color: #00af00\">741,434</span> (2.83 MB)\n",
       "</pre>\n"
      ],
      "text/plain": [
       "\u001b[1m Total params: \u001b[0m\u001b[38;5;34m741,434\u001b[0m (2.83 MB)\n"
      ]
     },
     "metadata": {},
     "output_type": "display_data"
    },
    {
     "data": {
      "text/html": [
       "<pre style=\"white-space:pre;overflow-x:auto;line-height:normal;font-family:Menlo,'DejaVu Sans Mono',consolas,'Courier New',monospace\"><span style=\"font-weight: bold\"> Trainable params: </span><span style=\"color: #00af00; text-decoration-color: #00af00\">741,434</span> (2.83 MB)\n",
       "</pre>\n"
      ],
      "text/plain": [
       "\u001b[1m Trainable params: \u001b[0m\u001b[38;5;34m741,434\u001b[0m (2.83 MB)\n"
      ]
     },
     "metadata": {},
     "output_type": "display_data"
    },
    {
     "data": {
      "text/html": [
       "<pre style=\"white-space:pre;overflow-x:auto;line-height:normal;font-family:Menlo,'DejaVu Sans Mono',consolas,'Courier New',monospace\"><span style=\"font-weight: bold\"> Non-trainable params: </span><span style=\"color: #00af00; text-decoration-color: #00af00\">0</span> (0.00 B)\n",
       "</pre>\n"
      ],
      "text/plain": [
       "\u001b[1m Non-trainable params: \u001b[0m\u001b[38;5;34m0\u001b[0m (0.00 B)\n"
      ]
     },
     "metadata": {},
     "output_type": "display_data"
    }
   ],
   "source": [
    "vocab_size = tokenizer.vocab_size  # from miditok\n",
    "model = build_transformer_model(vocab_size)\n",
    "loss = SmoothedSparseCategoricalCrossentropy(\n",
    "    vocab_size=tokenizer.vocab_size,\n",
    "    label_smoothing=0.1,\n",
    "    from_logits=True\n",
    ")\n",
    "model.compile(\n",
    "    optimizer=tf.keras.optimizers.Adam(learning_rate=1e-4),\n",
    "    loss=loss,\n",
    "    metrics=[\"accuracy\"]\n",
    ")\n",
    "\n",
    "model.summary()\n"
   ]
  },
  {
   "cell_type": "markdown",
   "id": "1813b32e-ef6c-42d6-96dd-277a69b2ecfd",
   "metadata": {},
   "source": [
    "Because we are streaming data with model training, the model won't know where the stopping end steps exist to give us a picture overall how much time is needed to complete training, so we will in a few steps formula compute an estimate streaming data total steps needed per epoch. This only applies, by the way, if we aren't taking a chosen discrete subset number of samples from the dataset (which technically we have).  If we didn't, however, enable taking the subset of training and validation data, then we would use the estimates below.  "
   ]
  },
  {
   "cell_type": "code",
   "execution_count": 37,
   "id": "e174d8d4-9972-45ba-a9cc-d832f70f54e0",
   "metadata": {},
   "outputs": [
    {
     "name": "stdout",
     "output_type": "stream",
     "text": [
      "Directory exists? True\n",
      "Absolute path: /home/christophermoverton/MelodAI_proj/data/tokens/remi/train\n",
      "Files found: 962\n",
      "▶️ data/tokens/remi/train/2004/MIDI-Unprocessed_SMF_02_R1_2004_01-05_ORIG_MID--AUDIO_02_R1_2004_05_Track05_wav.json\n",
      "▶️ data/tokens/remi/train/2004/MIDI-Unprocessed_XP_15_R2_2004_01_ORIG_MID--AUDIO_15_R2_2004_03_Track03_wav.json\n",
      "▶️ data/tokens/remi/train/2004/MIDI-Unprocessed_XP_20_R2_2004_01_ORIG_MID--AUDIO_20_R1_2004_03_Track03_wav.json\n",
      "▶️ data/tokens/remi/train/2004/MIDI-Unprocessed_XP_04_R1_2004_01-02_ORIG_MID--AUDIO_04_R1_2004_02_Track02_wav.json\n",
      "▶️ data/tokens/remi/train/2004/MIDI-Unprocessed_XP_19_R2_2004_01_ORIG_MID--AUDIO_19_R2_2004_03_Track03_wav.json\n"
     ]
    }
   ],
   "source": [
    "from pathlib import Path\n",
    "\n",
    "token_dir = Path(\"data/tokens/remi/train\")\n",
    "print(\"Directory exists?\", token_dir.exists())\n",
    "print(\"Absolute path:\", token_dir.resolve())\n",
    "\n",
    "# Show sample files\n",
    "token_files = list(token_dir.glob(\"**/*.json\"))\n",
    "print(\"Files found:\", len(token_files))\n",
    "for path in token_files[:5]:\n",
    "    print(\"▶️\", path)"
   ]
  },
  {
   "cell_type": "code",
   "execution_count": 44,
   "id": "1ba9e647-7da0-4890-b735-6329ce30f555",
   "metadata": {},
   "outputs": [],
   "source": [
    "from pathlib import Path\n",
    "import json\n",
    "\n",
    "def count_steps(token_dir, max_seq_len=512):\n",
    "    token_files = list(token_dir.glob(\"**/*.json\"))\n",
    "    total_steps = 0\n",
    "    print(len(token_files))\n",
    "    for file in token_files:\n",
    "        try:\n",
    "            with open(file) as f:\n",
    "                ids = json.load(f)[\"ids\"][0]\n",
    "                total_steps += max(0, len(ids) - max_seq_len)\n",
    "        except Exception as e:\n",
    "            print(f\"Error reading {file.name}: {e}\")\n",
    "    \n",
    "    return total_steps\n",
    "\n",
    "batch_size=8\n"
   ]
  },
  {
   "cell_type": "code",
   "execution_count": 45,
   "id": "98188885-bd75-4bb1-b4e7-445b1d38c1bf",
   "metadata": {},
   "outputs": [
    {
     "name": "stdout",
     "output_type": "stream",
     "text": [
      "962\n",
      "137\n"
     ]
    }
   ],
   "source": [
    "steps_per_epoch = count_steps(Path(\"data/tokens/remi/train\"), max_seq_len=512) // batch_size\n",
    "validation_steps = count_steps(Path(\"data/tokens/remi/validation\"), max_seq_len=512) // batch_size"
   ]
  },
  {
   "cell_type": "markdown",
   "id": "5532387c-75de-434e-bcc1-d5b81db13891",
   "metadata": {},
   "source": [
    "Note:  Again this won't apply with the 10000 samples (steps) that we have chosen from the dataset or 1000 samples (steps) for validation.   "
   ]
  },
  {
   "cell_type": "code",
   "execution_count": 46,
   "id": "8aebcfc3-2acf-4746-85dc-27883c4a8aec",
   "metadata": {},
   "outputs": [
    {
     "name": "stdout",
     "output_type": "stream",
     "text": [
      "steps per epoch: 2768096\n",
      "validations steps: 310944\n"
     ]
    }
   ],
   "source": [
    "print(f\"steps per epoch: {steps_per_epoch}\")\n",
    "print(f\"validations steps: {validation_steps}\")"
   ]
  },
  {
   "cell_type": "markdown",
   "id": "9316541e-87d3-426d-99be-8790c769e5a5",
   "metadata": {},
   "source": [
    "Let's go ahead and fit the model!  We notice validation accuracy quickly converges on epoch training in just 3 epochs."
   ]
  },
  {
   "cell_type": "code",
   "execution_count": 137,
   "id": "60f0a3f5-a154-4db5-9204-50c4edcd8cdc",
   "metadata": {},
   "outputs": [
    {
     "name": "stdout",
     "output_type": "stream",
     "text": [
      "Epoch 1/3\n",
      "   9997/Unknown \u001b[1m74s\u001b[0m 6ms/step - accuracy: 0.3344 - loss: 2.8002"
     ]
    },
    {
     "name": "stderr",
     "output_type": "stream",
     "text": [
      "2025-04-11 17:13:18.501881: I tensorflow/core/framework/local_rendezvous.cc:426] Local rendezvous recv item cancelled. Key hash: 2980978041811370734\n",
      "2025-04-11 17:13:18.502078: I tensorflow/core/framework/local_rendezvous.cc:426] Local rendezvous recv item cancelled. Key hash: 16468724083479024538\n",
      "/home/christophermoverton/MelodAI_proj/venv/lib/python3.12/site-packages/keras/src/trainers/epoch_iterator.py:151: UserWarning: Your input ran out of data; interrupting training. Make sure that your dataset or generator can generate at least `steps_per_epoch * epochs` batches. You may need to use the `.repeat()` function when building your dataset.\n",
      "  self._interrupted_warning()\n"
     ]
    },
    {
     "name": "stdout",
     "output_type": "stream",
     "text": [
      "\u001b[1m10000/10000\u001b[0m \u001b[32m━━━━━━━━━━━━━━━━━━━━\u001b[0m\u001b[37m\u001b[0m \u001b[1m78s\u001b[0m 7ms/step - accuracy: 0.3344 - loss: 2.8001 - val_accuracy: 0.2247 - val_loss: 3.8206\n",
      "Epoch 2/3\n"
     ]
    },
    {
     "name": "stderr",
     "output_type": "stream",
     "text": [
      "2025-04-11 17:13:22.341972: I tensorflow/core/framework/local_rendezvous.cc:426] Local rendezvous recv item cancelled. Key hash: 2980978041811370734\n",
      "2025-04-11 17:13:22.342017: I tensorflow/core/framework/local_rendezvous.cc:426] Local rendezvous recv item cancelled. Key hash: 16468724083479024538\n"
     ]
    },
    {
     "name": "stdout",
     "output_type": "stream",
     "text": [
      "\u001b[1m 9996/10000\u001b[0m \u001b[32m━━━━━━━━━━━━━━━━━━━\u001b[0m\u001b[37m━\u001b[0m \u001b[1m0s\u001b[0m 6ms/step - accuracy: 0.6267 - loss: 1.8932"
     ]
    },
    {
     "name": "stderr",
     "output_type": "stream",
     "text": [
      "2025-04-11 17:14:27.250716: I tensorflow/core/framework/local_rendezvous.cc:426] Local rendezvous recv item cancelled. Key hash: 2980978041811370734\n",
      "2025-04-11 17:14:27.250866: I tensorflow/core/framework/local_rendezvous.cc:426] Local rendezvous recv item cancelled. Key hash: 16468724083479024538\n"
     ]
    },
    {
     "name": "stdout",
     "output_type": "stream",
     "text": [
      "\u001b[1m10000/10000\u001b[0m \u001b[32m━━━━━━━━━━━━━━━━━━━━\u001b[0m\u001b[37m\u001b[0m \u001b[1m68s\u001b[0m 7ms/step - accuracy: 0.6268 - loss: 1.8929 - val_accuracy: 0.9223 - val_loss: 1.3600\n",
      "Epoch 3/3\n"
     ]
    },
    {
     "name": "stderr",
     "output_type": "stream",
     "text": [
      "2025-04-11 17:14:30.159053: I tensorflow/core/framework/local_rendezvous.cc:426] Local rendezvous recv item cancelled. Key hash: 2980978041811370734\n",
      "2025-04-11 17:14:30.159100: I tensorflow/core/framework/local_rendezvous.cc:426] Local rendezvous recv item cancelled. Key hash: 16468724083479024538\n"
     ]
    },
    {
     "name": "stdout",
     "output_type": "stream",
     "text": [
      "\u001b[1m 9994/10000\u001b[0m \u001b[32m━━━━━━━━━━━━━━━━━━━\u001b[0m\u001b[37m━\u001b[0m \u001b[1m0s\u001b[0m 6ms/step - accuracy: 0.9870 - loss: 0.9615"
     ]
    },
    {
     "name": "stderr",
     "output_type": "stream",
     "text": [
      "2025-04-11 17:15:33.850705: I tensorflow/core/framework/local_rendezvous.cc:407] Local rendezvous is aborting with status: OUT_OF_RANGE: End of sequence\n",
      "\t [[{{node IteratorGetNext}}]]\n",
      "2025-04-11 17:15:33.850773: I tensorflow/core/framework/local_rendezvous.cc:426] Local rendezvous recv item cancelled. Key hash: 2980978041811370734\n",
      "2025-04-11 17:15:33.850796: I tensorflow/core/framework/local_rendezvous.cc:426] Local rendezvous recv item cancelled. Key hash: 16468724083479024538\n"
     ]
    },
    {
     "name": "stdout",
     "output_type": "stream",
     "text": [
      "\u001b[1m10000/10000\u001b[0m \u001b[32m━━━━━━━━━━━━━━━━━━━━\u001b[0m\u001b[37m\u001b[0m \u001b[1m65s\u001b[0m 6ms/step - accuracy: 0.9870 - loss: 0.9615 - val_accuracy: 0.9333 - val_loss: 1.2753\n"
     ]
    },
    {
     "name": "stderr",
     "output_type": "stream",
     "text": [
      "2025-04-11 17:15:35.247136: I tensorflow/core/framework/local_rendezvous.cc:426] Local rendezvous recv item cancelled. Key hash: 16468724083479024538\n"
     ]
    },
    {
     "data": {
      "text/plain": [
       "<keras.src.callbacks.history.History at 0x7fd661d729c0>"
      ]
     },
     "execution_count": 137,
     "metadata": {},
     "output_type": "execute_result"
    }
   ],
   "source": [
    "model.fit(\n",
    "    train_ds,\n",
    "    validation_data=val_ds,\n",
    "    epochs=3,\n",
    "    callbacks=[\n",
    "        tf.keras.callbacks.ModelCheckpoint(\"checkpoints/melodai_transformer.keras\", save_best_only=True),\n",
    "        tf.keras.callbacks.EarlyStopping(patience=2, restore_best_weights=True)\n",
    "    ]\n",
    ")\n"
   ]
  },
  {
   "cell_type": "markdown",
   "id": "198edeb7-75a8-46d5-b28e-db32daa5c5ff",
   "metadata": {},
   "source": [
    "We will create a sequencer to generate a basic prompt for our model.  Just like LLMs and chat models, prompt inputs are received which are responded to by the model.  We will go ahead and step sequentially feed an arbitrary starting input, and let the model output a probability distribution of predictions for each vocabulary token id that is in the tokenizer.  We will softmax this to produce a token id weight map used in stochastically generating a next token id, and proceeed until we have produced a window sized at 512 token ids.  "
   ]
  },
  {
   "cell_type": "code",
   "execution_count": 138,
   "id": "a43922a8-1f7b-4f65-8833-9a5c56694b4b",
   "metadata": {},
   "outputs": [],
   "source": [
    "import numpy as np\n",
    "import tensorflow as tf\n",
    "\n",
    "def generate_sequence(model, tokenizer, seed=None, pad_token_id=0, max_tokens=512, temperature=1.0):\n",
    "    if seed is None:\n",
    "        seed = [pad_token_id]\n",
    "\n",
    "    sequence = seed.copy()\n",
    "\n",
    "    for _ in range(max_tokens):\n",
    "        input_seq = sequence[-512:]\n",
    "        if len(input_seq) < 512:\n",
    "            input_seq = [pad_token_id] * (512 - len(input_seq)) + input_seq\n",
    "\n",
    "        input_seq = tf.constant(input_seq, dtype=tf.int32)[None, :]\n",
    "\n",
    "        preds = model(input_seq, training=False)\n",
    "        next_token_logits = preds[0, -1] / temperature\n",
    "        next_token_probs = tf.nn.softmax(next_token_logits).numpy()\n",
    "        next_token = np.random.choice(len(next_token_probs), p=next_token_probs)\n",
    "\n",
    "        sequence.append(next_token)\n",
    "\n",
    "    return sequence\n",
    "\n"
   ]
  },
  {
   "cell_type": "markdown",
   "id": "9f9262d9-0d3f-459c-8996-97a7a43307cc",
   "metadata": {},
   "source": [
    "A little utility function to save our predicted midi output from the sequencer."
   ]
  },
  {
   "cell_type": "code",
   "execution_count": 139,
   "id": "fe610d9b-c7ef-41c5-ba08-bf0a3c9a5515",
   "metadata": {},
   "outputs": [],
   "source": [
    "def save_sequence_as_midi(tokenizer, token_ids, output_path=\"generated.mid\"):\n",
    "    from miditok import TokSequence\n",
    "\n",
    "    # Wrap in TokSequence\n",
    "    seq = TokSequence(ids=token_ids)\n",
    "    midi = tokenizer.decode([seq])  # returns a ScoreTick\n",
    "    midi.dump_midi(output_path)\n",
    "    print(f\"🎵 Saved MIDI to {output_path}\")\n"
   ]
  },
  {
   "cell_type": "code",
   "execution_count": 140,
   "id": "37531e19-861d-4c6a-8b6d-0bb7f08a7f3f",
   "metadata": {},
   "outputs": [
    {
     "name": "stdout",
     "output_type": "stream",
     "text": [
      "🎵 Saved MIDI to outputs/generated_music.mid\n"
     ]
    }
   ],
   "source": [
    "# Generate music\n",
    "generated_ids = generate_sequence(model, tokenizer, max_tokens=512)\n",
    "\n",
    "# Save as MIDI\n",
    "save_sequence_as_midi(tokenizer, generated_ids, \"outputs/generated_music.mid\")\n"
   ]
  },
  {
   "cell_type": "code",
   "execution_count": 143,
   "id": "ccdaf8b9-5307-4584-912a-ccb95b4efa1a",
   "metadata": {},
   "outputs": [
    {
     "name": "stdout",
     "output_type": "stream",
     "text": [
      "['PAD_None', 'TimeShift_0.0.1', 'Pitch_52', 'Velocity_15', 'TimeShift_7.3.4', 'Duration_2.6.8', 'Pitch_62', 'Duration_9.1.4', 'Duration_8.1.4', 'Pitch_93', 'Velocity_15', 'Duration_0.1.8', 'Pitch_29', 'Pitch_43', 'Velocity_15', 'Duration_0.1.8', 'TimeShift_0.3.8', 'Pitch_79', 'Duration_4.3.4', 'TimeShift_1.6.8', 'Pitch_52', 'Velocity_11', 'TimeShift_8.0.4', 'Pitch_41', 'Velocity_15', 'Duration_0.1.8', 'TimeShift_6.3.4', 'Velocity_59', 'Duration_0.1.8', 'TimeShift_0.4.8', 'Pitch_53', 'Velocity_15', 'Duration_0.1.8', 'TimeShift_0.1.8', 'Pitch_95', 'Pitch_57', 'Velocity_15', 'TimeShift_0.4.8', 'Velocity_51', 'Duration_2.6.8', 'Velocity_35', 'TimeShift_0.0.1', 'Pitch_79', 'Velocity_15', 'Duration_0.1.8', 'TimeShift_0.0.1', 'Pitch_79', 'Pitch_81', 'Velocity_15', 'Velocity_23']\n"
     ]
    }
   ],
   "source": [
    "# Reverse the tokenizer vocab (ID ➝ token string)\n",
    "id_to_token = {v: k for k, v in tokenizer.vocab.items()}\n",
    "\n",
    "# Now map your generated IDs\n",
    "token_strings = [id_to_token.get(token_id, f\"<UNK:{token_id}>\") for token_id in generated_ids]\n",
    "print(token_strings[:50])"
   ]
  },
  {
   "cell_type": "markdown",
   "id": "f6508506-11e8-4108-9b06-9bb03a1b3b98",
   "metadata": {},
   "source": [
    "Here's a little utility to embed a synthesized audio file of the midi output.  Just like before it is a piano synthesizer!  Whoa!  The notes sound really weird and fragmented.  This isn't unusual for early stage GPT-like models even if the do well in validating other input prompts.  What might be happening?  If we were to do a troublshooting and examine the output tokens for the midi file, we might find a lot of malformed note event expressions, even with the model understanding the pattern, remember with label smoothing we have a probability distribution output for all the label weights, and any non-zero change for a token to be non-zero means there is a possibility for malformed non-sequential erraticism which is likely the case here.  What can we do? "
   ]
  },
  {
   "cell_type": "code",
   "execution_count": 183,
   "id": "aed6ceca-30ef-41fb-898b-92cf40ae3a33",
   "metadata": {},
   "outputs": [],
   "source": [
    "import pretty_midi\n",
    "from IPython.display import Audio\n",
    "\n",
    "def midi_file_to_audio(midi_path, sample_rate=22050):\n",
    "    midi = pretty_midi.PrettyMIDI(midi_path)\n",
    "    add_sustain_pedal(midi)\n",
    "    humanize_midi(midi)\n",
    "    audio = Audio(midi.fluidsynth(), rate=44100)\n",
    "    return audio\n"
   ]
  },
  {
   "cell_type": "code",
   "execution_count": null,
   "id": "d0df9dd8-4a97-4d2d-809a-8a33a0c396ee",
   "metadata": {},
   "outputs": [],
   "source": [
    "midi_file_to_audio(\"outputs/generated_music.mid\")\n"
   ]
  },
  {
   "cell_type": "code",
   "execution_count": 145,
   "id": "e7622376-0e70-4317-b3e9-e2fbd49035ff",
   "metadata": {},
   "outputs": [],
   "source": [
    "def get_token_type(token_str):\n",
    "    if \"_\" in token_str:\n",
    "        return token_str.split(\"_\")[0]\n",
    "    return \"Unknown\"\n"
   ]
  },
  {
   "cell_type": "code",
   "execution_count": 146,
   "id": "1fa9736a-ae9f-49f2-b5a7-3f460c494ec2",
   "metadata": {},
   "outputs": [],
   "source": [
    "# Maps token ID to type like: {12: \"TimeShift\", 13: \"Pitch\", ...}\n",
    "token_type_by_id = {\n",
    "    tokenizer[token_str]: get_token_type(token_str)\n",
    "    for token_str in tokenizer.vocab\n",
    "}\n"
   ]
  },
  {
   "cell_type": "markdown",
   "id": "cf044944-eb11-43e1-8043-c0079f0fba46",
   "metadata": {},
   "source": [
    "Let's go ahead and constrain the sequencer, so that the output logit probability distribution is masked by sequence type expected below.  This ensures that we never have a malfomed midi event per tokenizers expected structure. That is given by the sequence shown below.  When masking the logit, we shutoff (turning off) the token ids that aren't associate with pitch when pitch is needed, and similarly we do the same for velocity and so forth as these types arise in sequence.  "
   ]
  },
  {
   "cell_type": "code",
   "execution_count": 148,
   "id": "c11662b5-0a8f-4c0e-9d61-5dfa4bcb32aa",
   "metadata": {},
   "outputs": [],
   "source": [
    "EXPECTED_SEQUENCE = [\"Pitch\", \"Velocity\", \"Duration\", \"TimeShift\"]\n"
   ]
  },
  {
   "cell_type": "code",
   "execution_count": 149,
   "id": "3e81d017-68f1-4431-a898-cdc10802a226",
   "metadata": {},
   "outputs": [],
   "source": [
    "def generate_structured_sequence(\n",
    "    model,\n",
    "    tokenizer,\n",
    "    pad_token_id=0,\n",
    "    max_events=512,\n",
    "    temperature=1.0\n",
    "):\n",
    "    EXPECTED_SEQUENCE = [\"Pitch\", \"Velocity\", \"Duration\", \"TimeShift\"]\n",
    "    step = 0\n",
    "    sequence = [pad_token_id]  # Start with pad or BOS\n",
    "\n",
    "    for _ in range(max_events):\n",
    "        input_seq = sequence[-512:]\n",
    "        if len(input_seq) < 512:\n",
    "            input_seq = [pad_token_id] * (512 - len(input_seq)) + input_seq\n",
    "        input_tensor = tf.constant(input_seq, dtype=tf.int32)[None, :]\n",
    "\n",
    "        logits = model(input_tensor, training=False)[0, -1].numpy()\n",
    "        logits /= temperature\n",
    "\n",
    "        # Mask for next expected token type\n",
    "        expected_type = EXPECTED_SEQUENCE[step % 4]\n",
    "        allowed_ids = []\n",
    "\n",
    "        for token, token_id in tokenizer.vocab.items():\n",
    "            if token.startswith(expected_type):\n",
    "                allowed_ids.append(token_id)\n",
    "\n",
    "        # Apply the mask\n",
    "        masked_logits = np.full_like(logits, -np.inf)\n",
    "        masked_logits[allowed_ids] = logits[allowed_ids]\n",
    "        probs = tf.nn.softmax(masked_logits).numpy()\n",
    "\n",
    "        # Validate probabilities\n",
    "        if not np.any(np.isfinite(probs)) or np.sum(probs) == 0 or np.isnan(probs).any():\n",
    "            print(\"⚠️ Skipping step due to invalid prob distribution\")\n",
    "            continue\n",
    "\n",
    "        next_token = np.random.choice(len(probs), p=probs)\n",
    "        sequence.append(next_token)\n",
    "        step += 1\n",
    "\n",
    "    return sequence\n"
   ]
  },
  {
   "cell_type": "code",
   "execution_count": 159,
   "id": "d6faf671-4e55-4a13-aa34-30b099e9e255",
   "metadata": {},
   "outputs": [
    {
     "name": "stdout",
     "output_type": "stream",
     "text": [
      "Score(ttype=Tick, tpq=8, begin=0, end=3, tracks=1, notes=7, time_sig=1, key_sig=0, markers=0)\n"
     ]
    }
   ],
   "source": [
    "generated_ids = generate_structured_sequence(\n",
    "    model,\n",
    "    tokenizer,\n",
    "    pad_token_id=tokenizer[\"PAD_None\"],\n",
    "    max_events=1024,\n",
    "    temperature=0.6\n",
    ")\n",
    "\n",
    "#print(tokens)\n",
    "print(tokenizer.decode([generated_ids[:30]]))\n",
    "\n",
    "#save_sequence_as_midi(tokenizer, tokens, \"outputs/locked_groove.mid\")\n",
    "\n"
   ]
  },
  {
   "cell_type": "code",
   "execution_count": 160,
   "id": "c2d5e907-3468-4c87-9d84-c92d41caea98",
   "metadata": {},
   "outputs": [
    {
     "name": "stdout",
     "output_type": "stream",
     "text": [
      "🎵 Saved MIDI to outputs/locked_groove.mid\n"
     ]
    }
   ],
   "source": [
    "save_sequence_as_midi(tokenizer, generated_ids, \"outputs/locked_groove.mid\")"
   ]
  },
  {
   "cell_type": "markdown",
   "id": "be336577-e466-4092-acc0-ceaa8a6db3ae",
   "metadata": {},
   "source": [
    "Okay the output is much better, but now we have a flurry of notes...I am thinking about that notes/per second density plot right now.  Maybe our GPT-like model has learned all too well musical ornamentation over a lot of other things?"
   ]
  },
  {
   "cell_type": "code",
   "execution_count": null,
   "id": "599fb611-45e0-418d-824b-3d8f0c59b10e",
   "metadata": {},
   "outputs": [],
   "source": [
    "midi_file_to_audio(\"outputs/locked_groove.mid\")"
   ]
  },
  {
   "cell_type": "markdown",
   "id": "1b487464-3d9e-4ee1-9615-185390caed04",
   "metadata": {},
   "source": [
    "Let's go ahead and integrate into the sequencer added token vocabulary constraints, so that we only accept certain durations, timeshifts and velocities of notes.  "
   ]
  },
  {
   "cell_type": "code",
   "execution_count": 191,
   "id": "51b1a893-995e-4a48-9e2c-053b76f5212c",
   "metadata": {},
   "outputs": [],
   "source": [
    "def generate_structured_sequence(\n",
    "    model,\n",
    "    tokenizer,\n",
    "    pad_token_id=0,\n",
    "    max_events=512,\n",
    "    temperature=1.0,\n",
    "    allowed_durations=None,\n",
    "    allowed_timeshifts=None,\n",
    "    allowed_velocities=None\n",
    "):\n",
    "    EXPECTED_SEQUENCE = [\"Pitch\", \"Velocity\", \"Duration\", \"TimeShift\"]\n",
    "    step = 0\n",
    "    sequence = [pad_token_id]  # Can be BOS if defined\n",
    "\n",
    "    # Precompute allowed IDs if specified\n",
    "    duration_ids = set()\n",
    "    timeshift_ids = set()\n",
    "    velocity_ids = set()\n",
    "\n",
    "    if allowed_durations:\n",
    "        duration_ids = {tokenizer[tok] for tok in allowed_durations if tok in tokenizer.vocab}\n",
    "\n",
    "    if allowed_timeshifts:\n",
    "        timeshift_ids = {tokenizer[tok] for tok in allowed_timeshifts if tok in tokenizer.vocab}\n",
    "    if allowed_velocities:\n",
    "        velocity_ids = {tokenizer[tok] for tok in allowed_velocities if tok in tokenizer.vocab}\n",
    "\n",
    "    for _ in range(max_events):\n",
    "        input_seq = sequence[-512:]\n",
    "        if len(input_seq) < 512:\n",
    "            input_seq = [pad_token_id] * (512 - len(input_seq)) + input_seq\n",
    "        input_tensor = tf.constant(input_seq, dtype=tf.int32)[None, :]\n",
    "\n",
    "        logits = model(input_tensor, training=False)[0, -1].numpy()\n",
    "        logits /= temperature\n",
    "\n",
    "        expected_type = EXPECTED_SEQUENCE[step % 4]\n",
    "        allowed_ids = []\n",
    "\n",
    "        for token_str, token_id in tokenizer.vocab.items():\n",
    "            if token_str.startswith(expected_type):\n",
    "                if expected_type == \"Duration\" and allowed_durations:\n",
    "                    if token_id in duration_ids:\n",
    "                        allowed_ids.append(token_id)\n",
    "                elif expected_type == \"TimeShift\" and allowed_timeshifts:\n",
    "                    if token_id in timeshift_ids:\n",
    "                        allowed_ids.append(token_id)\n",
    "                elif expected_type == \"Velocity\" and allowed_velocities:\n",
    "                    if token_id in velocity_ids:\n",
    "                        allowed_ids.append(token_id)\n",
    "                else:\n",
    "                    allowed_ids.append(token_id)\n",
    "\n",
    "        # If nothing is allowed, skip\n",
    "        if not allowed_ids:\n",
    "            print(f\"⚠️ No allowed tokens for expected type '{expected_type}'\")\n",
    "            continue\n",
    "\n",
    "        # Apply logits mask\n",
    "        masked_logits = np.full_like(logits, -np.inf)\n",
    "        masked_logits[allowed_ids] = logits[allowed_ids]\n",
    "        probs = tf.nn.softmax(masked_logits).numpy()\n",
    "\n",
    "        if not np.any(np.isfinite(probs)) or np.sum(probs) == 0 or np.isnan(probs).any():\n",
    "            print(f\"⚠️ Skipping {expected_type} step due to invalid prob distribution\")\n",
    "            continue\n",
    "\n",
    "        next_token = np.random.choice(len(probs), p=probs)\n",
    "        sequence.append(next_token)\n",
    "        step += 1\n",
    "\n",
    "    return sequence\n",
    "\n",
    "\n",
    "\n"
   ]
  },
  {
   "cell_type": "markdown",
   "id": "6a03a578-9630-4e3d-9461-8c48808e6272",
   "metadata": {},
   "source": [
    "In this model, MIDI music is converted into a sequence of tokens that represent key musical attributes: duration, time shift, and velocity. The duration tokens indicate how long a note is held, using values like \"Duration_1.0.8\" for one beat or \"Duration_0.5.8\" for half a beat. Time shift tokens represent how much time passes before the next note is played, such as TimeShift_1.5.8 to wait 1.5 beats. These help the model understand rhythm and timing between notes. Velocity tokens describe how loud or soft a note is played, ranging from softer values like \"Velocity_43\" to louder ones like \"Velocity_87.\" By using a limited set of values for each category, the model keeps its vocabulary simple and learns more efficiently while still capturing expressive musical detail.\n"
   ]
  },
  {
   "cell_type": "code",
   "execution_count": 201,
   "id": "8be72ea5-7f63-41e0-8a3c-33fff39fd094",
   "metadata": {},
   "outputs": [],
   "source": [
    "generated_ids = generate_structured_sequence(\n",
    "    model,\n",
    "    tokenizer,\n",
    "    max_events=512,\n",
    "    temperature=1.0,\n",
    "    allowed_durations=[\n",
    "        \"Duration_0.5.8\", \"Duration_1.0.8\", \"Duration_1.5.8\", \n",
    "        \"Duration_2.0.8\", \"Duration_0.7.8\", \"Duration_3.0.8\"\n",
    "    ],\n",
    "    allowed_timeshifts=[\n",
    "        \"TimeShift_0.5.8\", \"TimeShift_1.0.8\", \"TimeShift_1.5.8\", \n",
    "        \"TimeShift_2.0.8\", \"TimeShift_0.7.8\", \"TimeShift_3.0.8\"\n",
    "    ],\n",
    "    allowed_velocities=[\n",
    "        \"Velocity_43\",\"Velocity_47\",\"Velocity_51\",\"Velocity_55\",\n",
    "        \"Velocity_59\",\"Velocity_63\",\"Velocity_67\",\"Velocity_71\",\n",
    "        \"Velocity_75\",\"Velocity_79\",\"Velocity_83\",\"Velocity_87\",\n",
    "        \n",
    "    ],\n",
    ")\n",
    "\n"
   ]
  },
  {
   "cell_type": "code",
   "execution_count": 202,
   "id": "0a3f59e1-61f3-4fc4-8c3d-95b0f1356fd8",
   "metadata": {},
   "outputs": [
    {
     "name": "stdout",
     "output_type": "stream",
     "text": [
      "🎵 Saved MIDI to outputs/locked_groove.mid\n"
     ]
    }
   ],
   "source": [
    "save_sequence_as_midi(tokenizer, generated_ids, \"outputs/locked_groove.mid\")"
   ]
  },
  {
   "cell_type": "markdown",
   "id": "0c64565a-40f9-42b9-8ff7-57a6bf2b36c5",
   "metadata": {},
   "source": [
    "Okay the next output sounds far better.  It is a still a little too rigid, and we have a lot of pitch repetitions.  We will proceed to revisit the pre-processing tokenization method and see if we can revamp this for improvements."
   ]
  },
  {
   "cell_type": "code",
   "execution_count": null,
   "id": "c0a65c0a-b5d2-4587-87c3-fb28629e546f",
   "metadata": {},
   "outputs": [],
   "source": [
    "midi_file_to_audio(\"outputs/locked_groove.mid\")"
   ]
  },
  {
   "cell_type": "code",
   "execution_count": 91,
   "id": "a7e2c168-9f95-4018-aa18-f13df65281fd",
   "metadata": {},
   "outputs": [],
   "source": [
    "model.save(\"checkpoints/melodai_transformer.keras\")\n"
   ]
  },
  {
   "cell_type": "code",
   "execution_count": 92,
   "id": "dcc515a1-1d96-439e-afde-9fae68d94179",
   "metadata": {},
   "outputs": [],
   "source": [
    "from collections import defaultdict\n",
    "\n",
    "# Collect tokens by type prefix (e.g., Duration_, Pitch_, TimeShift_)\n",
    "token_groups = defaultdict(list)\n",
    "\n",
    "for vocab_group in tokenizer.vocab:\n",
    "    if isinstance(vocab_group, dict):\n",
    "        for token_str in vocab_group.keys():\n",
    "            token_type = token_str.split(\"_\")[0]  # Get \"Duration\", \"Pitch\", etc.\n",
    "            token_groups[token_type].append(token_str)\n",
    "\n",
    "# Print grouped vocab\n",
    "for group, tokens in token_groups.items():\n",
    "    print(f\"\\n🔸 Token Type: {group}\")\n",
    "    for token in sorted(tokens):\n",
    "        print(\"  \", token)\n"
   ]
  },
  {
   "cell_type": "code",
   "execution_count": 77,
   "id": "055dbb59-194f-4b08-b63c-56b544efaeb3",
   "metadata": {},
   "outputs": [
    {
     "name": "stdout",
     "output_type": "stream",
     "text": [
      "⏱️ Available Time-Shift tokens in your tokenizer:\n",
      "\n"
     ]
    }
   ],
   "source": [
    "# Print available time-shift tokens across all vocab segments\n",
    "print(\"⏱️ Available Time-Shift tokens in your tokenizer:\\n\")\n",
    "\n",
    "for i, vocab in enumerate(tokenizer.vocab):\n",
    "    for token in vocab:\n",
    "        if \"Time-Shift\" in token:\n",
    "            print(f\"  {token}\")\n"
   ]
  },
  {
   "cell_type": "markdown",
   "id": "5f259d05-60e3-474d-b933-daff7fa88da9",
   "metadata": {},
   "source": [
    "Let's go ahead and try a pre-processing change.  Namely, let's modify the tokenization of the Structured tokenizer, so that we configure it to combine Pitch, Velocity, Duration, and Timeshift in a single token so that we have a single token id representing this entire note event at once.  This gives our model the opportunity of learning more the note event itself, in relation to other note events, and not be distrated by learning the correct ordering of note events to properly represent such event.  In other words, the model doesn't have to predict a note event's correct attribute order in order to create a proper note event.  This means no more malformed MIDI token predictions!"
   ]
  },
  {
   "cell_type": "code",
   "execution_count": 229,
   "id": "0ff69e32-9f66-4cd4-b840-71e5466e36e3",
   "metadata": {},
   "outputs": [],
   "source": [
    "from miditok import TokenizerConfig, Structured\n",
    "\n",
    "config = TokenizerConfig(\n",
    "    use_chords=False,\n",
    "    use_rests=False,\n",
    "    use_tempos=False,\n",
    "    use_programs=False,\n",
    "    pitch_range=(21, 108),  # standard piano range\n",
    "    beat_res = {(0, 1): 4, (1, 2): 8, (2, 4): 16},   # resolution (eighth notes)\n",
    "    additional_tokens={\n",
    "        \"UseVelocity\": True,\n",
    "        \"UseDuration\": True,\n",
    "        \"UseTimeShifts\": True,\n",
    "    }\n",
    ")\n"
   ]
  },
  {
   "cell_type": "markdown",
   "id": "3153053b-f056-42be-8cc5-22e9d9761e1b",
   "metadata": {},
   "source": [
    "We reinstantiate the tokenizer with the new configuration"
   ]
  },
  {
   "cell_type": "code",
   "execution_count": 230,
   "id": "c37c14c2-c1ea-43ab-9fcb-f01891dda10f",
   "metadata": {},
   "outputs": [],
   "source": [
    "tokenizer = Structured(config)\n"
   ]
  },
  {
   "cell_type": "markdown",
   "id": "f08089cf-68c9-4071-9a81-b3d61d91f4cf",
   "metadata": {},
   "source": [
    "AVOID RUNNING THIS NEXT CELL.  We have this, as an option, but as it turns out, training the tokenizer scales a lot more embeddings (parameters) by a factor of 10 substantially increasing the size of the model.  This not only slows down training multiplying the number of model parameters, it leads to extreme overfitting!"
   ]
  },
  {
   "cell_type": "code",
   "execution_count": null,
   "id": "af62d88e-5ee8-4b3f-9af7-127f4f9db0bc",
   "metadata": {},
   "outputs": [],
   "source": [
    "from pathlib import Path\n",
    "#mpaths=[]\n",
    "\n",
    "#for midi_file in train_files:\n",
    "#    midi_path = Path(\"data/maestro/maestro-v3.0.0\") / midi_file\n",
    "#    mpaths.append(midi_path)\n",
    "#midi_folder = Path(\"path/to/your/midi/files\")\n",
    "#print(mpaths[0:10])\n",
    "#tokenizer.train(vocab_size=38016, files_paths=mpaths)\n",
    "#for midi_file in train_files:\n",
    "#    midi_path = Path(\"data/maestro/maestro-v3.0.0\") / midi_file\n",
    "#    mpaths.append(midi_path)\n",
    "#print(mpaths)\n",
    "#tokenizer.train(\n",
    "#    vocab_size=20000, files_paths=mpaths\n",
    "#)"
   ]
  },
  {
   "cell_type": "markdown",
   "id": "8f8d69d4-b447-40ba-a381-6bb64c9e73d4",
   "metadata": {},
   "source": [
    "We have to re-encode all of the training, testing, and validation data with the new tokenizer!"
   ]
  },
  {
   "cell_type": "code",
   "execution_count": 231,
   "id": "da378deb-75fa-4cb1-91b0-b0dded955b76",
   "metadata": {},
   "outputs": [],
   "source": [
    "from pathlib import Path\n",
    "def save_tokenized_split(tv_files, split_name):\n",
    "    for midi_file in tv_files:\n",
    "        midi_path = Path(\"data/maestro/maestro-v3.0.0\") / midi_file\n",
    "        try:\n",
    "            tokens = tokenizer(midi_path)\n",
    "            out_path = Path(f\"data/tokens/remi/{split_name}\") / midi_file.replace(\".midi\", \".json\")\n",
    "            out_path.parent.mkdir(parents=True, exist_ok=True)\n",
    "            tokenizer.save_tokens(tokens, out_path)\n",
    "        except Exception as e:\n",
    "            print(f\"Error tokenizing {midi_file}: {e}\")\n",
    "\n",
    "save_tokenized_split(train_files, \"train\")\n",
    "save_tokenized_split(val_files, \"validation\")\n",
    "save_tokenized_split(test_files, \"test\")"
   ]
  },
  {
   "cell_type": "markdown",
   "id": "4c56db51-229b-4539-aee2-67f1d9c13705",
   "metadata": {},
   "source": [
    "Following all usual steps to reinstance all datasets with the refreshed tokenized datasets"
   ]
  },
  {
   "cell_type": "code",
   "execution_count": 232,
   "id": "6a81094a-446a-4cc7-a700-707f737aefde",
   "metadata": {},
   "outputs": [],
   "source": [
    "train_ds = build_streaming_dataset(\"data/tokens/remi/train\", max_seq_len=512, batch_size=8)\n",
    "val_ds   = build_streaming_dataset(\"data/tokens/remi/validation\", max_seq_len=512, batch_size=8)\n",
    "test_ds  = build_streaming_dataset(\"data/tokens/remi/test\", max_seq_len=512, batch_size=8)"
   ]
  },
  {
   "cell_type": "code",
   "execution_count": 233,
   "id": "c82b6510-92cc-44b4-8bf2-d40ea78e8d90",
   "metadata": {},
   "outputs": [],
   "source": [
    "train_ds = train_ds.take(10000)  # take 10,000 windows\n",
    "val_ds = val_ds.take(1000)       # take 1,000 windows"
   ]
  },
  {
   "cell_type": "markdown",
   "id": "512bcb7f-984b-46ad-b466-7a1180646e92",
   "metadata": {},
   "source": [
    "Recompiling our model"
   ]
  },
  {
   "cell_type": "code",
   "execution_count": 234,
   "id": "90f20a3d-7037-441a-bddd-a7c893c25a34",
   "metadata": {},
   "outputs": [
    {
     "data": {
      "text/html": [
       "<pre style=\"white-space:pre;overflow-x:auto;line-height:normal;font-family:Menlo,'DejaVu Sans Mono',consolas,'Courier New',monospace\"><span style=\"font-weight: bold\">Model: \"functional_23\"</span>\n",
       "</pre>\n"
      ],
      "text/plain": [
       "\u001b[1mModel: \"functional_23\"\u001b[0m\n"
      ]
     },
     "metadata": {},
     "output_type": "display_data"
    },
    {
     "data": {
      "text/html": [
       "<pre style=\"white-space:pre;overflow-x:auto;line-height:normal;font-family:Menlo,'DejaVu Sans Mono',consolas,'Courier New',monospace\">┏━━━━━━━━━━━━━━━━━━━━━━━━━━━━━━━━━┳━━━━━━━━━━━━━━━━━━━━━━━━┳━━━━━━━━━━━━━━━┓\n",
       "┃<span style=\"font-weight: bold\"> Layer (type)                    </span>┃<span style=\"font-weight: bold\"> Output Shape           </span>┃<span style=\"font-weight: bold\">       Param # </span>┃\n",
       "┡━━━━━━━━━━━━━━━━━━━━━━━━━━━━━━━━━╇━━━━━━━━━━━━━━━━━━━━━━━━╇━━━━━━━━━━━━━━━┩\n",
       "│ input_layer_20 (<span style=\"color: #0087ff; text-decoration-color: #0087ff\">InputLayer</span>)     │ (<span style=\"color: #00d7ff; text-decoration-color: #00d7ff\">None</span>, <span style=\"color: #00af00; text-decoration-color: #00af00\">512</span>)            │             <span style=\"color: #00af00; text-decoration-color: #00af00\">0</span> │\n",
       "├─────────────────────────────────┼────────────────────────┼───────────────┤\n",
       "│ token_and_position_embedding_5  │ (<span style=\"color: #00d7ff; text-decoration-color: #00d7ff\">None</span>, <span style=\"color: #00af00; text-decoration-color: #00af00\">512</span>, <span style=\"color: #00af00; text-decoration-color: #00af00\">128</span>)       │       <span style=\"color: #00af00; text-decoration-color: #00af00\">100,480</span> │\n",
       "│ (<span style=\"color: #0087ff; text-decoration-color: #0087ff\">TokenAndPositionEmbedding</span>)     │                        │               │\n",
       "├─────────────────────────────────┼────────────────────────┼───────────────┤\n",
       "│ transformer_block_15            │ (<span style=\"color: #00d7ff; text-decoration-color: #00d7ff\">None</span>, <span style=\"color: #00af00; text-decoration-color: #00af00\">512</span>, <span style=\"color: #00af00; text-decoration-color: #00af00\">128</span>)       │       <span style=\"color: #00af00; text-decoration-color: #00af00\">198,400</span> │\n",
       "│ (<span style=\"color: #0087ff; text-decoration-color: #0087ff\">TransformerBlock</span>)              │                        │               │\n",
       "├─────────────────────────────────┼────────────────────────┼───────────────┤\n",
       "│ transformer_block_16            │ (<span style=\"color: #00d7ff; text-decoration-color: #00d7ff\">None</span>, <span style=\"color: #00af00; text-decoration-color: #00af00\">512</span>, <span style=\"color: #00af00; text-decoration-color: #00af00\">128</span>)       │       <span style=\"color: #00af00; text-decoration-color: #00af00\">198,400</span> │\n",
       "│ (<span style=\"color: #0087ff; text-decoration-color: #0087ff\">TransformerBlock</span>)              │                        │               │\n",
       "├─────────────────────────────────┼────────────────────────┼───────────────┤\n",
       "│ transformer_block_17            │ (<span style=\"color: #00d7ff; text-decoration-color: #00d7ff\">None</span>, <span style=\"color: #00af00; text-decoration-color: #00af00\">512</span>, <span style=\"color: #00af00; text-decoration-color: #00af00\">128</span>)       │       <span style=\"color: #00af00; text-decoration-color: #00af00\">198,400</span> │\n",
       "│ (<span style=\"color: #0087ff; text-decoration-color: #0087ff\">TransformerBlock</span>)              │                        │               │\n",
       "├─────────────────────────────────┼────────────────────────┼───────────────┤\n",
       "│ dense_41 (<span style=\"color: #0087ff; text-decoration-color: #0087ff\">Dense</span>)                │ (<span style=\"color: #00d7ff; text-decoration-color: #00d7ff\">None</span>, <span style=\"color: #00af00; text-decoration-color: #00af00\">512</span>, <span style=\"color: #00af00; text-decoration-color: #00af00\">273</span>)       │        <span style=\"color: #00af00; text-decoration-color: #00af00\">35,217</span> │\n",
       "└─────────────────────────────────┴────────────────────────┴───────────────┘\n",
       "</pre>\n"
      ],
      "text/plain": [
       "┏━━━━━━━━━━━━━━━━━━━━━━━━━━━━━━━━━┳━━━━━━━━━━━━━━━━━━━━━━━━┳━━━━━━━━━━━━━━━┓\n",
       "┃\u001b[1m \u001b[0m\u001b[1mLayer (type)                   \u001b[0m\u001b[1m \u001b[0m┃\u001b[1m \u001b[0m\u001b[1mOutput Shape          \u001b[0m\u001b[1m \u001b[0m┃\u001b[1m \u001b[0m\u001b[1m      Param #\u001b[0m\u001b[1m \u001b[0m┃\n",
       "┡━━━━━━━━━━━━━━━━━━━━━━━━━━━━━━━━━╇━━━━━━━━━━━━━━━━━━━━━━━━╇━━━━━━━━━━━━━━━┩\n",
       "│ input_layer_20 (\u001b[38;5;33mInputLayer\u001b[0m)     │ (\u001b[38;5;45mNone\u001b[0m, \u001b[38;5;34m512\u001b[0m)            │             \u001b[38;5;34m0\u001b[0m │\n",
       "├─────────────────────────────────┼────────────────────────┼───────────────┤\n",
       "│ token_and_position_embedding_5  │ (\u001b[38;5;45mNone\u001b[0m, \u001b[38;5;34m512\u001b[0m, \u001b[38;5;34m128\u001b[0m)       │       \u001b[38;5;34m100,480\u001b[0m │\n",
       "│ (\u001b[38;5;33mTokenAndPositionEmbedding\u001b[0m)     │                        │               │\n",
       "├─────────────────────────────────┼────────────────────────┼───────────────┤\n",
       "│ transformer_block_15            │ (\u001b[38;5;45mNone\u001b[0m, \u001b[38;5;34m512\u001b[0m, \u001b[38;5;34m128\u001b[0m)       │       \u001b[38;5;34m198,400\u001b[0m │\n",
       "│ (\u001b[38;5;33mTransformerBlock\u001b[0m)              │                        │               │\n",
       "├─────────────────────────────────┼────────────────────────┼───────────────┤\n",
       "│ transformer_block_16            │ (\u001b[38;5;45mNone\u001b[0m, \u001b[38;5;34m512\u001b[0m, \u001b[38;5;34m128\u001b[0m)       │       \u001b[38;5;34m198,400\u001b[0m │\n",
       "│ (\u001b[38;5;33mTransformerBlock\u001b[0m)              │                        │               │\n",
       "├─────────────────────────────────┼────────────────────────┼───────────────┤\n",
       "│ transformer_block_17            │ (\u001b[38;5;45mNone\u001b[0m, \u001b[38;5;34m512\u001b[0m, \u001b[38;5;34m128\u001b[0m)       │       \u001b[38;5;34m198,400\u001b[0m │\n",
       "│ (\u001b[38;5;33mTransformerBlock\u001b[0m)              │                        │               │\n",
       "├─────────────────────────────────┼────────────────────────┼───────────────┤\n",
       "│ dense_41 (\u001b[38;5;33mDense\u001b[0m)                │ (\u001b[38;5;45mNone\u001b[0m, \u001b[38;5;34m512\u001b[0m, \u001b[38;5;34m273\u001b[0m)       │        \u001b[38;5;34m35,217\u001b[0m │\n",
       "└─────────────────────────────────┴────────────────────────┴───────────────┘\n"
      ]
     },
     "metadata": {},
     "output_type": "display_data"
    },
    {
     "data": {
      "text/html": [
       "<pre style=\"white-space:pre;overflow-x:auto;line-height:normal;font-family:Menlo,'DejaVu Sans Mono',consolas,'Courier New',monospace\"><span style=\"font-weight: bold\"> Total params: </span><span style=\"color: #00af00; text-decoration-color: #00af00\">730,897</span> (2.79 MB)\n",
       "</pre>\n"
      ],
      "text/plain": [
       "\u001b[1m Total params: \u001b[0m\u001b[38;5;34m730,897\u001b[0m (2.79 MB)\n"
      ]
     },
     "metadata": {},
     "output_type": "display_data"
    },
    {
     "data": {
      "text/html": [
       "<pre style=\"white-space:pre;overflow-x:auto;line-height:normal;font-family:Menlo,'DejaVu Sans Mono',consolas,'Courier New',monospace\"><span style=\"font-weight: bold\"> Trainable params: </span><span style=\"color: #00af00; text-decoration-color: #00af00\">730,897</span> (2.79 MB)\n",
       "</pre>\n"
      ],
      "text/plain": [
       "\u001b[1m Trainable params: \u001b[0m\u001b[38;5;34m730,897\u001b[0m (2.79 MB)\n"
      ]
     },
     "metadata": {},
     "output_type": "display_data"
    },
    {
     "data": {
      "text/html": [
       "<pre style=\"white-space:pre;overflow-x:auto;line-height:normal;font-family:Menlo,'DejaVu Sans Mono',consolas,'Courier New',monospace\"><span style=\"font-weight: bold\"> Non-trainable params: </span><span style=\"color: #00af00; text-decoration-color: #00af00\">0</span> (0.00 B)\n",
       "</pre>\n"
      ],
      "text/plain": [
       "\u001b[1m Non-trainable params: \u001b[0m\u001b[38;5;34m0\u001b[0m (0.00 B)\n"
      ]
     },
     "metadata": {},
     "output_type": "display_data"
    }
   ],
   "source": [
    "vocab_size = tokenizer.vocab_size  # from miditok\n",
    "model = build_transformer_model(vocab_size)\n",
    "loss = SmoothedSparseCategoricalCrossentropy(\n",
    "    vocab_size=tokenizer.vocab_size,\n",
    "    label_smoothing=0.1,\n",
    "    from_logits=True\n",
    ")\n",
    "model.compile(\n",
    "    optimizer=tf.keras.optimizers.Adam(learning_rate=1e-4),\n",
    "    loss=loss,\n",
    "    metrics=[\"accuracy\"]\n",
    ")\n",
    "\n",
    "model.summary()\n"
   ]
  },
  {
   "cell_type": "markdown",
   "id": "c2237e9c-e4f1-48fa-8f89-34951c42adae",
   "metadata": {},
   "source": [
    "Finally we fit the refreshed new model with the new tokenized datastream.  The results aren't disimilar from the previous model!  That is a good fit!"
   ]
  },
  {
   "cell_type": "code",
   "execution_count": 235,
   "id": "c1c47427-2fef-4a34-927e-d35ad2e55c09",
   "metadata": {},
   "outputs": [
    {
     "name": "stdout",
     "output_type": "stream",
     "text": [
      "Epoch 1/3\n"
     ]
    },
    {
     "name": "stderr",
     "output_type": "stream",
     "text": [
      "2025-04-13 14:20:35.579751: I external/local_xla/xla/stream_executor/cuda/subprocess_compilation.cc:346] ptxas warning : Registers are spilled to local memory in function 'gemm_fusion_dot_25_0', 488 bytes spill stores, 492 bytes spill loads\n",
      "\n",
      "2025-04-13 14:20:35.721925: I external/local_xla/xla/stream_executor/cuda/subprocess_compilation.cc:346] ptxas warning : Registers are spilled to local memory in function 'gemm_fusion_dot_25', 116 bytes spill stores, 116 bytes spill loads\n",
      "\n",
      "2025-04-13 14:20:35.888119: I external/local_xla/xla/stream_executor/cuda/subprocess_compilation.cc:346] ptxas warning : Registers are spilled to local memory in function 'gemm_fusion_dot_25', 8464 bytes spill stores, 8624 bytes spill loads\n",
      "\n",
      "2025-04-13 14:20:35.900291: I external/local_xla/xla/stream_executor/cuda/subprocess_compilation.cc:346] ptxas warning : Registers are spilled to local memory in function 'gemm_fusion_dot_25_0', 588 bytes spill stores, 616 bytes spill loads\n",
      "\n",
      "2025-04-13 14:20:36.140620: I external/local_xla/xla/stream_executor/cuda/subprocess_compilation.cc:346] ptxas warning : Registers are spilled to local memory in function 'gemm_fusion_dot_25', 68 bytes spill stores, 68 bytes spill loads\n",
      "\n",
      "2025-04-13 14:20:36.151414: I external/local_xla/xla/stream_executor/cuda/subprocess_compilation.cc:346] ptxas warning : Registers are spilled to local memory in function 'gemm_fusion_dot_25', 740 bytes spill stores, 740 bytes spill loads\n",
      "\n",
      "2025-04-13 14:20:36.330335: I external/local_xla/xla/stream_executor/cuda/subprocess_compilation.cc:346] ptxas warning : Registers are spilled to local memory in function 'gemm_fusion_dot_25', 232 bytes spill stores, 232 bytes spill loads\n",
      "\n",
      "2025-04-13 14:20:36.435381: I external/local_xla/xla/stream_executor/cuda/subprocess_compilation.cc:346] ptxas warning : Registers are spilled to local memory in function 'gemm_fusion_dot_7843', 272 bytes spill stores, 272 bytes spill loads\n",
      "\n",
      "2025-04-13 14:20:36.461025: I external/local_xla/xla/stream_executor/cuda/subprocess_compilation.cc:346] ptxas warning : Registers are spilled to local memory in function 'gemm_fusion_dot_7843', 308 bytes spill stores, 308 bytes spill loads\n",
      "\n",
      "2025-04-13 14:20:36.477919: I external/local_xla/xla/stream_executor/cuda/subprocess_compilation.cc:346] ptxas warning : Registers are spilled to local memory in function 'gemm_fusion_dot_25', 140 bytes spill stores, 140 bytes spill loads\n",
      "\n",
      "2025-04-13 14:20:36.498105: I external/local_xla/xla/stream_executor/cuda/subprocess_compilation.cc:346] ptxas warning : Registers are spilled to local memory in function 'gemm_fusion_dot_25', 1096 bytes spill stores, 1100 bytes spill loads\n",
      "\n",
      "2025-04-13 14:20:36.542996: I external/local_xla/xla/stream_executor/cuda/subprocess_compilation.cc:346] ptxas warning : Registers are spilled to local memory in function 'gemm_fusion_dot_7843', 4944 bytes spill stores, 4960 bytes spill loads\n",
      "\n",
      "2025-04-13 14:20:36.631943: I external/local_xla/xla/stream_executor/cuda/subprocess_compilation.cc:346] ptxas warning : Registers are spilled to local memory in function 'gemm_fusion_dot_7843', 112 bytes spill stores, 112 bytes spill loads\n",
      "\n",
      "2025-04-13 14:20:36.809566: I external/local_xla/xla/stream_executor/cuda/subprocess_compilation.cc:346] ptxas warning : Registers are spilled to local memory in function 'gemm_fusion_dot_7843', 5280 bytes spill stores, 5240 bytes spill loads\n",
      "\n",
      "2025-04-13 14:20:36.848113: I external/local_xla/xla/stream_executor/cuda/subprocess_compilation.cc:346] ptxas warning : Registers are spilled to local memory in function 'gemm_fusion_dot_7843', 48 bytes spill stores, 48 bytes spill loads\n",
      "\n",
      "2025-04-13 14:20:36.925983: I external/local_xla/xla/stream_executor/cuda/subprocess_compilation.cc:346] ptxas warning : Registers are spilled to local memory in function 'gemm_fusion_dot_7843', 228 bytes spill stores, 228 bytes spill loads\n",
      "\n",
      "2025-04-13 14:20:37.206377: I external/local_xla/xla/stream_executor/cuda/subprocess_compilation.cc:346] ptxas warning : Registers are spilled to local memory in function 'gemm_fusion_dot_25', 940 bytes spill stores, 1004 bytes spill loads\n",
      "\n",
      "2025-04-13 14:20:37.270859: I external/local_xla/xla/stream_executor/cuda/subprocess_compilation.cc:346] ptxas warning : Registers are spilled to local memory in function 'gemm_fusion_dot_7843_0', 1836 bytes spill stores, 1840 bytes spill loads\n",
      "\n",
      "2025-04-13 14:20:37.305908: I external/local_xla/xla/stream_executor/cuda/subprocess_compilation.cc:346] ptxas warning : Registers are spilled to local memory in function 'gemm_fusion_dot_7843_0', 456 bytes spill stores, 456 bytes spill loads\n",
      "\n"
     ]
    },
    {
     "name": "stdout",
     "output_type": "stream",
     "text": [
      "   9998/Unknown \u001b[1m82s\u001b[0m 7ms/step - accuracy: 0.4083 - loss: 2.5680"
     ]
    },
    {
     "name": "stderr",
     "output_type": "stream",
     "text": [
      "2025-04-13 14:21:51.250893: I tensorflow/core/framework/local_rendezvous.cc:426] Local rendezvous recv item cancelled. Key hash: 2980978041811370734\n",
      "2025-04-13 14:21:51.250942: I tensorflow/core/framework/local_rendezvous.cc:426] Local rendezvous recv item cancelled. Key hash: 16468724083479024538\n"
     ]
    },
    {
     "name": "stdout",
     "output_type": "stream",
     "text": [
      "\u001b[1m10000/10000\u001b[0m \u001b[32m━━━━━━━━━━━━━━━━━━━━\u001b[0m\u001b[37m\u001b[0m \u001b[1m86s\u001b[0m 7ms/step - accuracy: 0.4083 - loss: 2.5679 - val_accuracy: 0.2851 - val_loss: 3.4289\n",
      "Epoch 2/3\n"
     ]
    },
    {
     "name": "stderr",
     "output_type": "stream",
     "text": [
      "2025-04-13 14:21:55.496668: I tensorflow/core/framework/local_rendezvous.cc:426] Local rendezvous recv item cancelled. Key hash: 2980978041811370734\n",
      "2025-04-13 14:21:55.496725: I tensorflow/core/framework/local_rendezvous.cc:426] Local rendezvous recv item cancelled. Key hash: 16468724083479024538\n"
     ]
    },
    {
     "name": "stdout",
     "output_type": "stream",
     "text": [
      "\u001b[1m10000/10000\u001b[0m \u001b[32m━━━━━━━━━━━━━━━━━━━━\u001b[0m\u001b[37m\u001b[0m \u001b[1m73s\u001b[0m 7ms/step - accuracy: 0.6546 - loss: 1.7947 - val_accuracy: 0.9208 - val_loss: 1.3420\n",
      "Epoch 3/3\n"
     ]
    },
    {
     "name": "stderr",
     "output_type": "stream",
     "text": [
      "2025-04-13 14:23:08.971799: I tensorflow/core/framework/local_rendezvous.cc:426] Local rendezvous recv item cancelled. Key hash: 2980978041811370734\n",
      "2025-04-13 14:23:08.971850: I tensorflow/core/framework/local_rendezvous.cc:426] Local rendezvous recv item cancelled. Key hash: 16468724083479024538\n"
     ]
    },
    {
     "name": "stdout",
     "output_type": "stream",
     "text": [
      "\u001b[1m 9997/10000\u001b[0m \u001b[32m━━━━━━━━━━━━━━━━━━━\u001b[0m\u001b[37m━\u001b[0m \u001b[1m0s\u001b[0m 7ms/step - accuracy: 0.9921 - loss: 0.9229"
     ]
    },
    {
     "name": "stderr",
     "output_type": "stream",
     "text": [
      "2025-04-13 14:24:19.780131: I tensorflow/core/framework/local_rendezvous.cc:426] Local rendezvous recv item cancelled. Key hash: 2980978041811370734\n",
      "2025-04-13 14:24:19.780183: I tensorflow/core/framework/local_rendezvous.cc:426] Local rendezvous recv item cancelled. Key hash: 16468724083479024538\n"
     ]
    },
    {
     "name": "stdout",
     "output_type": "stream",
     "text": [
      "\u001b[1m10000/10000\u001b[0m \u001b[32m━━━━━━━━━━━━━━━━━━━━\u001b[0m\u001b[37m\u001b[0m \u001b[1m72s\u001b[0m 7ms/step - accuracy: 0.9921 - loss: 0.9229 - val_accuracy: 0.9465 - val_loss: 1.1969\n"
     ]
    },
    {
     "name": "stderr",
     "output_type": "stream",
     "text": [
      "2025-04-13 14:24:20.895127: I tensorflow/core/framework/local_rendezvous.cc:426] Local rendezvous recv item cancelled. Key hash: 2980978041811370734\n",
      "2025-04-13 14:24:20.895174: I tensorflow/core/framework/local_rendezvous.cc:426] Local rendezvous recv item cancelled. Key hash: 16468724083479024538\n"
     ]
    },
    {
     "data": {
      "text/plain": [
       "<keras.src.callbacks.history.History at 0x7fd6942318b0>"
      ]
     },
     "execution_count": 235,
     "metadata": {},
     "output_type": "execute_result"
    }
   ],
   "source": [
    "model.fit(\n",
    "    train_ds,\n",
    "    validation_data=val_ds,\n",
    "    epochs=3,\n",
    "    callbacks=[\n",
    "        tf.keras.callbacks.ModelCheckpoint(\"checkpoints/melodai_transformer.keras\", save_best_only=True),\n",
    "        tf.keras.callbacks.EarlyStopping(patience=2, restore_best_weights=True)\n",
    "    ]\n",
    ")"
   ]
  },
  {
   "cell_type": "markdown",
   "id": "b57eea97-64ac-4e60-8cb0-30c07113c267",
   "metadata": {},
   "source": [
    "Using the simplest sequencer from above (without all the mixed-in constraints)...remember the previous model output from this same sequencer had all sorts of malformed note events, this would lead to a small cluster of note events that were structured right and others that were incorrect leading to long pauses (with no notes).  The sample below plays far more coherently.  Yes, it is far from ideal, but we hear more pitch coherence between the notes, indicating that the music is scaled to specific keys.  There is less highly repeating note frequency and atonalities between notes.  There is evidence in this also of chord like arpegiated structures and motifs as well.  This is a significant improvement.  "
   ]
  },
  {
   "cell_type": "code",
   "execution_count": 236,
   "id": "162de437-e904-4a9b-bb17-1a9de8d8cea5",
   "metadata": {},
   "outputs": [
    {
     "name": "stdout",
     "output_type": "stream",
     "text": [
      "🎵 Saved MIDI to outputs/generated_music.mid\n"
     ]
    }
   ],
   "source": [
    "# Generate music\n",
    "generated_ids = generate_sequence(model, tokenizer, max_tokens=512)\n",
    "\n",
    "# Save as MIDI\n",
    "save_sequence_as_midi(tokenizer, generated_ids, \"outputs/generated_music.mid\")"
   ]
  },
  {
   "cell_type": "code",
   "execution_count": null,
   "id": "2e841236-366f-49d8-b59b-adb59c492aaa",
   "metadata": {},
   "outputs": [],
   "source": [
    "midi_file_to_audio(\"outputs/generated_music.mid\")"
   ]
  },
  {
   "cell_type": "markdown",
   "id": "68a157f3-060d-4bcb-a5e4-03908342daf9",
   "metadata": {},
   "source": [
    "### Conclusions and Discusion\n",
    "\n",
    "####  **Model Performance Comparison: Separate vs. Structured Tokenizer**\n",
    "\n",
    "| **Tokenizer**            | **Epoch** | **Train Accuracy** | **Train Loss** | **Val Accuracy** | **Val Loss** |\n",
    "|--------------------------|-----------|--------------------|----------------|------------------|--------------|\n",
    "| **Separate Attribute Tokens** | 1         | 0.3344             | 2.8001         | 0.2247           | 3.8206       |\n",
    "|                          | 2         | 0.6267             | 1.8932         | 0.9223           | 1.3600       |\n",
    "|                          | 3         | 0.9870             | 0.9615         | 0.9333           | 1.2753       |\n",
    "| **Structured Tokenizer** | 1         | 0.4083             | 2.5679         | 0.2851           | 3.4289       |\n",
    "|                          | 2         | 0.6546             | 1.7947         | 0.9208           | 1.3420       |\n",
    "|                          | 3         | 0.9921             | 0.9229         | 0.9465           | 1.1969       |\n",
    "\n",
    "\n",
    "#### **Conclusion Summary**\n",
    "\n",
    "#####  **Separate Attribute Tokenizer**\n",
    "In this approach, each note attribute (Pitch, Velocity, Duration, TimeShift) is treated as an individual token. The model quickly learned meaningful representations, reaching **93.3% validation accuracy** by the third epoch. The smaller vocabulary allowed for fast training and high precision, but the structure lacked cohesion between attributes, treating them independently. While effective, this method may underrepresent nuanced musical context (e.g., how a specific velocity pairs with a certain pitch or rhythm).\n",
    "\n",
    "#####  **Structured Tokenizer**\n",
    "The structured tokenizer represents each note event as a single token combining all four attributes, resulting in a richer, context-aware vocabulary. This approach produced slightly better validation performance (**94.65% accuracy**) by Epoch 3 and showed more stable loss reduction. Although vocabulary size was larger, the model benefited from tokens that more accurately represent musical semantics. This structure helps the model better capture expressive intent and inter-attribute dependencies, particularly useful in classical music where dynamics and timing are subtle but significant.\n",
    "\n",
    "\n",
    "\n",
    "\n",
    "#### **Discussion**\n",
    "\n",
    "While the validation accuracy demonstrates strong model performance, it's important to recognize that the true value of a generative model lies in its performance during prompting—not just classification accuracy. Although our model performed well during training, we observed that the raw logits output, when decoded without post-processing constraints, frequently failed to yield valid sequences of MIDI tokens in the seperate attribute tokens case. This suggests potential issues with label smoothing, which may be dampening the model's confidence too much, leading to malformed sequences during sampling.\n",
    "\n",
    "To mitigate this, we experimented with post-processing constraints—adding checks to enforce expected token types in a valid sequence format. While this improved syntactic correctness, it also over-constrained the output, leading to music that felt rigid, overly repetitive, or lacking in melodic flow. In other words, while structure was enforced, musicality suffered. This reflects a fundamental tension: more rigid post-processing may fix syntax, but at the cost of diminishing the creative flexibility of the model—ironically pushing us back toward more traditional algorithmic composition techniques rather than leveraging the generative potential of GPT.\n",
    "\n",
    "This prompted exploration in another direction: pre-processing improvements through tokenizer configuration. Specifically, we revised the `Structured` tokenizer to emphasize multi-attribute token fusion (combining pitch, duration, velocity, and timeshift), with the goal of letting the model learn the musical relationships between note events, rather than just the syntax of how tokens are ordered. Even though this change did not yield a dramatic leap in validation accuracy, it significantly improved generation quality. Why? Because the model no longer had to waste learning capacity just trying to piece together valid token sequences—it could focus more on musical structure, motifs, and progression. In earlier tests using a `REMI()` tokenizer trained jointly with the model, we observed validation accuracy below 1%, signaling poor convergence, likely due to token order complexity or misalignment between tokenizer training and model learning. This experience underscored the importance of tokenization as a central part of model design—not just a data formatting step.\n",
    "\n",
    "There are also important implications here for model design and direction. While marginal gains in validation accuracy may still be possible through tuning hyperparameters or scaling the model, the real success lies in how well the model performs as a musical prompt engine. Future research could explore how prompting can be extended to include stylistic transfer—e.g., generating music in the style of a specific composer, or blending stylistic traits across composers. While our current model seems to reflect general trends in classical music theory and structure, there is little evidence of discriminative features that distinctly identify, say, Chopin versus Debussy. This opens up exciting directions: how can we steer GPT-like models to weight stylistic or structural outcomes that more strongly resemble a known composer? How can we embed style tokens, embedding biases, or even use conditional transformers to guide composition not only toward valid music, but recognizably stylistic music?\n",
    "\n",
    "To this end, we have observed that changing the nature of the embeddings can significantly impact the success of model learning. If stylistic transfer or other discriminative conditions are to be incorporated through prompting, it may be more effective to focus on the tokenization method rather than the GPT-like model structure itself. Future research could explore embedding composer information directly with the tokens, allowing the model to learn discriminative embeddings that associate abstract note events with a composer’s unique musical signature. Taking this further, embeddings could also include song-level labels, offering more granular context about compositional structure, style, or form. Such embeddings would provide piece-wise specificity and help the model better capture compositional intent. Given the evident power of embedding design in influencing model behavior, future exploration may benefit more from refining pre-processing and embedding strategies than relying solely on post-processing to enforce stylistic coherence.  \n",
    "\n"
   ]
  },
  {
   "cell_type": "code",
   "execution_count": null,
   "id": "949d5503-400a-408e-9d4b-5890d43536ca",
   "metadata": {},
   "outputs": [],
   "source": []
  }
 ],
 "metadata": {
  "kernelspec": {
   "display_name": "Python (MelodAI venv)",
   "language": "python",
   "name": "melodai_venv"
  },
  "language_info": {
   "codemirror_mode": {
    "name": "ipython",
    "version": 3
   },
   "file_extension": ".py",
   "mimetype": "text/x-python",
   "name": "python",
   "nbconvert_exporter": "python",
   "pygments_lexer": "ipython3",
   "version": "3.12.3"
  }
 },
 "nbformat": 4,
 "nbformat_minor": 5
}
